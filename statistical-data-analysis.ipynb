{
 "cells": [
  {
   "cell_type": "markdown",
   "id": "70f826ef",
   "metadata": {
    "pycharm": {
     "name": "#%% md\n"
    }
   },
   "source": [
    "# Statistical Data Analysis Project"
   ]
  },
  {
   "cell_type": "markdown",
   "id": "ab3dfb80",
   "metadata": {
    "pycharm": {
     "name": "#%% md\n"
    }
   },
   "source": [
    "## Project description\n",
    "The Megaline company offers its clients two prepaid plans, Surf and Ultimate. The commercial department wants to know which of the plans brings in more revenue in order to adjust the advertising budget.\n",
    "We are carrying out a preliminary analysis of the plans based on a relatively small selection of clients. We need to analyze their behavior and determine which prepaid plan brings in more revenue. "
   ]
  },
  {
   "cell_type": "markdown",
   "id": "cd2c9ba8",
   "metadata": {
    "pycharm": {
     "name": "#%% md\n"
    }
   },
   "source": [
    "## Opening and investigating the data"
   ]
  },
  {
   "cell_type": "code",
   "execution_count": 1,
   "id": "63d645c4",
   "metadata": {
    "pycharm": {
     "name": "#%%\n"
    }
   },
   "outputs": [],
   "source": [
    "#making sure I and the reviewer have the same versions\n",
    "#!pip install -U matplotlib\n",
    "#!pip install -U numpy\n",
    "#!pip install -U pandas\n",
    "#!pip install -U scipy"
   ]
  },
  {
   "cell_type": "code",
   "execution_count": 2,
   "id": "518aa8f5",
   "metadata": {
    "pycharm": {
     "name": "#%%\n"
    }
   },
   "outputs": [],
   "source": [
    "import warnings\n",
    "warnings.filterwarnings('ignore')"
   ]
  },
  {
   "cell_type": "code",
   "execution_count": 3,
   "id": "91810c05",
   "metadata": {
    "pycharm": {
     "name": "#%%\n"
    }
   },
   "outputs": [],
   "source": [
    "import matplotlib.pyplot as plt\n",
    "import pandas as pd\n",
    "import numpy as np\n",
    "import math\n",
    "from scipy import stats as st\n",
    "try:\n",
    "    # If we are online on the Jupyter Hub, we open the online database\n",
    "    calls_data=pd.read_csv(\"/datasets/megaline_calls.csv\")\n",
    "    internet_data=pd.read_csv(\"/datasets/megaline_internet.csv\")\n",
    "    messages_data=pd.read_csv(\"/datasets/megaline_messages.csv\")\n",
    "    plans_data=pd.read_csv(\"/datasets/megaline_plans.csv\")\n",
    "    users_data=pd.read_csv(\"/datasets/megaline_users1.csv\")\n",
    "except:\n",
    "    # If we are locally we open the local database\n",
    "    calls_data=pd.read_csv(\"datasets/megaline_calls.csv\")\n",
    "    internet_data=pd.read_csv(\"datasets/megaline_internet.csv\")\n",
    "    messages_data=pd.read_csv(\"datasets/megaline_messages.csv\")\n",
    "    plans_data=pd.read_csv(\"datasets/megaline_plans.csv\")\n",
    "    users_data=pd.read_csv(\"datasets/megaline_users1.csv\")"
   ]
  },
  {
   "cell_type": "code",
   "execution_count": 4,
   "id": "aa25e525",
   "metadata": {},
   "outputs": [],
   "source": [
    "def investigate_data(data):\n",
    "    print(' ==================== Table ==========================')\n",
    "    display(data.head())\n",
    "    print(' -------------------- Info ---------------------------')\n",
    "    print(data.info())\n",
    "    print('The shape is:', data.shape)\n",
    "    print(' -------------- Data description ----------------------')\n",
    "    display(data.describe().T)\n",
    "    print('Number of duplicated rows :', data.duplicated().sum())"
   ]
  },
  {
   "cell_type": "markdown",
   "id": "5bce5a2e",
   "metadata": {
    "pycharm": {
     "name": "#%% md\n"
    }
   },
   "source": [
    "### Plans table"
   ]
  },
  {
   "cell_type": "code",
   "execution_count": 5,
   "id": "5399c6e2",
   "metadata": {
    "pycharm": {
     "name": "#%%\n"
    },
    "scrolled": true
   },
   "outputs": [
    {
     "name": "stdout",
     "output_type": "stream",
     "text": [
      " ==================== Table ==========================\n"
     ]
    },
    {
     "data": {
      "text/html": [
       "<div>\n",
       "<style scoped>\n",
       "    .dataframe tbody tr th:only-of-type {\n",
       "        vertical-align: middle;\n",
       "    }\n",
       "\n",
       "    .dataframe tbody tr th {\n",
       "        vertical-align: top;\n",
       "    }\n",
       "\n",
       "    .dataframe thead th {\n",
       "        text-align: right;\n",
       "    }\n",
       "</style>\n",
       "<table border=\"1\" class=\"dataframe\">\n",
       "  <thead>\n",
       "    <tr style=\"text-align: right;\">\n",
       "      <th></th>\n",
       "      <th>messages_included</th>\n",
       "      <th>mb_per_month_included</th>\n",
       "      <th>minutes_included</th>\n",
       "      <th>usd_monthly_pay</th>\n",
       "      <th>usd_per_gb</th>\n",
       "      <th>usd_per_message</th>\n",
       "      <th>usd_per_minute</th>\n",
       "      <th>plan_name</th>\n",
       "    </tr>\n",
       "  </thead>\n",
       "  <tbody>\n",
       "    <tr>\n",
       "      <th>0</th>\n",
       "      <td>50</td>\n",
       "      <td>15360</td>\n",
       "      <td>500</td>\n",
       "      <td>20</td>\n",
       "      <td>10</td>\n",
       "      <td>0.03</td>\n",
       "      <td>0.03</td>\n",
       "      <td>surf</td>\n",
       "    </tr>\n",
       "    <tr>\n",
       "      <th>1</th>\n",
       "      <td>1000</td>\n",
       "      <td>30720</td>\n",
       "      <td>3000</td>\n",
       "      <td>70</td>\n",
       "      <td>7</td>\n",
       "      <td>0.01</td>\n",
       "      <td>0.01</td>\n",
       "      <td>ultimate</td>\n",
       "    </tr>\n",
       "  </tbody>\n",
       "</table>\n",
       "</div>"
      ],
      "text/plain": [
       "   messages_included  mb_per_month_included  minutes_included  \\\n",
       "0                 50                  15360               500   \n",
       "1               1000                  30720              3000   \n",
       "\n",
       "   usd_monthly_pay  usd_per_gb  usd_per_message  usd_per_minute plan_name  \n",
       "0               20          10             0.03            0.03      surf  \n",
       "1               70           7             0.01            0.01  ultimate  "
      ]
     },
     "metadata": {},
     "output_type": "display_data"
    },
    {
     "name": "stdout",
     "output_type": "stream",
     "text": [
      " -------------------- Info ---------------------------\n",
      "<class 'pandas.core.frame.DataFrame'>\n",
      "RangeIndex: 2 entries, 0 to 1\n",
      "Data columns (total 8 columns):\n",
      " #   Column                 Non-Null Count  Dtype  \n",
      "---  ------                 --------------  -----  \n",
      " 0   messages_included      2 non-null      int64  \n",
      " 1   mb_per_month_included  2 non-null      int64  \n",
      " 2   minutes_included       2 non-null      int64  \n",
      " 3   usd_monthly_pay        2 non-null      int64  \n",
      " 4   usd_per_gb             2 non-null      int64  \n",
      " 5   usd_per_message        2 non-null      float64\n",
      " 6   usd_per_minute         2 non-null      float64\n",
      " 7   plan_name              2 non-null      object \n",
      "dtypes: float64(2), int64(5), object(1)\n",
      "memory usage: 256.0+ bytes\n",
      "None\n",
      "The shape is: (2, 8)\n",
      " -------------- Data description ----------------------\n"
     ]
    },
    {
     "data": {
      "text/html": [
       "<div>\n",
       "<style scoped>\n",
       "    .dataframe tbody tr th:only-of-type {\n",
       "        vertical-align: middle;\n",
       "    }\n",
       "\n",
       "    .dataframe tbody tr th {\n",
       "        vertical-align: top;\n",
       "    }\n",
       "\n",
       "    .dataframe thead th {\n",
       "        text-align: right;\n",
       "    }\n",
       "</style>\n",
       "<table border=\"1\" class=\"dataframe\">\n",
       "  <thead>\n",
       "    <tr style=\"text-align: right;\">\n",
       "      <th></th>\n",
       "      <th>count</th>\n",
       "      <th>mean</th>\n",
       "      <th>std</th>\n",
       "      <th>min</th>\n",
       "      <th>25%</th>\n",
       "      <th>50%</th>\n",
       "      <th>75%</th>\n",
       "      <th>max</th>\n",
       "    </tr>\n",
       "  </thead>\n",
       "  <tbody>\n",
       "    <tr>\n",
       "      <th>messages_included</th>\n",
       "      <td>2.0</td>\n",
       "      <td>525.00</td>\n",
       "      <td>671.751442</td>\n",
       "      <td>50.00</td>\n",
       "      <td>287.500</td>\n",
       "      <td>525.00</td>\n",
       "      <td>762.500</td>\n",
       "      <td>1000.00</td>\n",
       "    </tr>\n",
       "    <tr>\n",
       "      <th>mb_per_month_included</th>\n",
       "      <td>2.0</td>\n",
       "      <td>23040.00</td>\n",
       "      <td>10861.160159</td>\n",
       "      <td>15360.00</td>\n",
       "      <td>19200.000</td>\n",
       "      <td>23040.00</td>\n",
       "      <td>26880.000</td>\n",
       "      <td>30720.00</td>\n",
       "    </tr>\n",
       "    <tr>\n",
       "      <th>minutes_included</th>\n",
       "      <td>2.0</td>\n",
       "      <td>1750.00</td>\n",
       "      <td>1767.766953</td>\n",
       "      <td>500.00</td>\n",
       "      <td>1125.000</td>\n",
       "      <td>1750.00</td>\n",
       "      <td>2375.000</td>\n",
       "      <td>3000.00</td>\n",
       "    </tr>\n",
       "    <tr>\n",
       "      <th>usd_monthly_pay</th>\n",
       "      <td>2.0</td>\n",
       "      <td>45.00</td>\n",
       "      <td>35.355339</td>\n",
       "      <td>20.00</td>\n",
       "      <td>32.500</td>\n",
       "      <td>45.00</td>\n",
       "      <td>57.500</td>\n",
       "      <td>70.00</td>\n",
       "    </tr>\n",
       "    <tr>\n",
       "      <th>usd_per_gb</th>\n",
       "      <td>2.0</td>\n",
       "      <td>8.50</td>\n",
       "      <td>2.121320</td>\n",
       "      <td>7.00</td>\n",
       "      <td>7.750</td>\n",
       "      <td>8.50</td>\n",
       "      <td>9.250</td>\n",
       "      <td>10.00</td>\n",
       "    </tr>\n",
       "    <tr>\n",
       "      <th>usd_per_message</th>\n",
       "      <td>2.0</td>\n",
       "      <td>0.02</td>\n",
       "      <td>0.014142</td>\n",
       "      <td>0.01</td>\n",
       "      <td>0.015</td>\n",
       "      <td>0.02</td>\n",
       "      <td>0.025</td>\n",
       "      <td>0.03</td>\n",
       "    </tr>\n",
       "    <tr>\n",
       "      <th>usd_per_minute</th>\n",
       "      <td>2.0</td>\n",
       "      <td>0.02</td>\n",
       "      <td>0.014142</td>\n",
       "      <td>0.01</td>\n",
       "      <td>0.015</td>\n",
       "      <td>0.02</td>\n",
       "      <td>0.025</td>\n",
       "      <td>0.03</td>\n",
       "    </tr>\n",
       "  </tbody>\n",
       "</table>\n",
       "</div>"
      ],
      "text/plain": [
       "                       count      mean           std       min        25%  \\\n",
       "messages_included        2.0    525.00    671.751442     50.00    287.500   \n",
       "mb_per_month_included    2.0  23040.00  10861.160159  15360.00  19200.000   \n",
       "minutes_included         2.0   1750.00   1767.766953    500.00   1125.000   \n",
       "usd_monthly_pay          2.0     45.00     35.355339     20.00     32.500   \n",
       "usd_per_gb               2.0      8.50      2.121320      7.00      7.750   \n",
       "usd_per_message          2.0      0.02      0.014142      0.01      0.015   \n",
       "usd_per_minute           2.0      0.02      0.014142      0.01      0.015   \n",
       "\n",
       "                            50%        75%       max  \n",
       "messages_included        525.00    762.500   1000.00  \n",
       "mb_per_month_included  23040.00  26880.000  30720.00  \n",
       "minutes_included        1750.00   2375.000   3000.00  \n",
       "usd_monthly_pay           45.00     57.500     70.00  \n",
       "usd_per_gb                 8.50      9.250     10.00  \n",
       "usd_per_message            0.02      0.025      0.03  \n",
       "usd_per_minute             0.02      0.025      0.03  "
      ]
     },
     "metadata": {},
     "output_type": "display_data"
    },
    {
     "name": "stdout",
     "output_type": "stream",
     "text": [
      "Number of duplicated rows : 0\n"
     ]
    }
   ],
   "source": [
    "investigate_data(plans_data)"
   ]
  },
  {
   "cell_type": "markdown",
   "id": "2fe66096",
   "metadata": {
    "pycharm": {
     "name": "#%% md\n"
    }
   },
   "source": [
    "#### Conclusion"
   ]
  },
  {
   "cell_type": "markdown",
   "id": "52f4d831",
   "metadata": {
    "pycharm": {
     "name": "#%% md\n"
    }
   },
   "source": [
    "Clear cut table containing the data of the two plans we are analyzing."
   ]
  },
  {
   "cell_type": "markdown",
   "id": "e24450b2",
   "metadata": {
    "pycharm": {
     "name": "#%% md\n"
    }
   },
   "source": [
    "### Calls table"
   ]
  },
  {
   "cell_type": "code",
   "execution_count": 6,
   "id": "c20e7177",
   "metadata": {
    "pycharm": {
     "name": "#%%\n"
    }
   },
   "outputs": [
    {
     "name": "stdout",
     "output_type": "stream",
     "text": [
      " ==================== Table ==========================\n"
     ]
    },
    {
     "data": {
      "text/html": [
       "<div>\n",
       "<style scoped>\n",
       "    .dataframe tbody tr th:only-of-type {\n",
       "        vertical-align: middle;\n",
       "    }\n",
       "\n",
       "    .dataframe tbody tr th {\n",
       "        vertical-align: top;\n",
       "    }\n",
       "\n",
       "    .dataframe thead th {\n",
       "        text-align: right;\n",
       "    }\n",
       "</style>\n",
       "<table border=\"1\" class=\"dataframe\">\n",
       "  <thead>\n",
       "    <tr style=\"text-align: right;\">\n",
       "      <th></th>\n",
       "      <th>id</th>\n",
       "      <th>user_id</th>\n",
       "      <th>call_date</th>\n",
       "      <th>duration</th>\n",
       "    </tr>\n",
       "  </thead>\n",
       "  <tbody>\n",
       "    <tr>\n",
       "      <th>0</th>\n",
       "      <td>1000_93</td>\n",
       "      <td>1000</td>\n",
       "      <td>2018-12-27</td>\n",
       "      <td>8.52</td>\n",
       "    </tr>\n",
       "    <tr>\n",
       "      <th>1</th>\n",
       "      <td>1000_145</td>\n",
       "      <td>1000</td>\n",
       "      <td>2018-12-27</td>\n",
       "      <td>13.66</td>\n",
       "    </tr>\n",
       "    <tr>\n",
       "      <th>2</th>\n",
       "      <td>1000_247</td>\n",
       "      <td>1000</td>\n",
       "      <td>2018-12-27</td>\n",
       "      <td>14.48</td>\n",
       "    </tr>\n",
       "    <tr>\n",
       "      <th>3</th>\n",
       "      <td>1000_309</td>\n",
       "      <td>1000</td>\n",
       "      <td>2018-12-28</td>\n",
       "      <td>5.76</td>\n",
       "    </tr>\n",
       "    <tr>\n",
       "      <th>4</th>\n",
       "      <td>1000_380</td>\n",
       "      <td>1000</td>\n",
       "      <td>2018-12-30</td>\n",
       "      <td>4.22</td>\n",
       "    </tr>\n",
       "  </tbody>\n",
       "</table>\n",
       "</div>"
      ],
      "text/plain": [
       "         id  user_id   call_date  duration\n",
       "0   1000_93     1000  2018-12-27      8.52\n",
       "1  1000_145     1000  2018-12-27     13.66\n",
       "2  1000_247     1000  2018-12-27     14.48\n",
       "3  1000_309     1000  2018-12-28      5.76\n",
       "4  1000_380     1000  2018-12-30      4.22"
      ]
     },
     "metadata": {},
     "output_type": "display_data"
    },
    {
     "name": "stdout",
     "output_type": "stream",
     "text": [
      " -------------------- Info ---------------------------\n",
      "<class 'pandas.core.frame.DataFrame'>\n",
      "RangeIndex: 137735 entries, 0 to 137734\n",
      "Data columns (total 4 columns):\n",
      " #   Column     Non-Null Count   Dtype  \n",
      "---  ------     --------------   -----  \n",
      " 0   id         137735 non-null  object \n",
      " 1   user_id    137735 non-null  int64  \n",
      " 2   call_date  137735 non-null  object \n",
      " 3   duration   137735 non-null  float64\n",
      "dtypes: float64(1), int64(1), object(2)\n",
      "memory usage: 4.2+ MB\n",
      "None\n",
      "The shape is: (137735, 4)\n",
      " -------------- Data description ----------------------\n"
     ]
    },
    {
     "data": {
      "text/html": [
       "<div>\n",
       "<style scoped>\n",
       "    .dataframe tbody tr th:only-of-type {\n",
       "        vertical-align: middle;\n",
       "    }\n",
       "\n",
       "    .dataframe tbody tr th {\n",
       "        vertical-align: top;\n",
       "    }\n",
       "\n",
       "    .dataframe thead th {\n",
       "        text-align: right;\n",
       "    }\n",
       "</style>\n",
       "<table border=\"1\" class=\"dataframe\">\n",
       "  <thead>\n",
       "    <tr style=\"text-align: right;\">\n",
       "      <th></th>\n",
       "      <th>count</th>\n",
       "      <th>mean</th>\n",
       "      <th>std</th>\n",
       "      <th>min</th>\n",
       "      <th>25%</th>\n",
       "      <th>50%</th>\n",
       "      <th>75%</th>\n",
       "      <th>max</th>\n",
       "    </tr>\n",
       "  </thead>\n",
       "  <tbody>\n",
       "    <tr>\n",
       "      <th>user_id</th>\n",
       "      <td>137735.0</td>\n",
       "      <td>1247.658046</td>\n",
       "      <td>139.416268</td>\n",
       "      <td>1000.0</td>\n",
       "      <td>1128.00</td>\n",
       "      <td>1247.00</td>\n",
       "      <td>1365.00</td>\n",
       "      <td>1499.0</td>\n",
       "    </tr>\n",
       "    <tr>\n",
       "      <th>duration</th>\n",
       "      <td>137735.0</td>\n",
       "      <td>6.745927</td>\n",
       "      <td>5.839241</td>\n",
       "      <td>0.0</td>\n",
       "      <td>1.29</td>\n",
       "      <td>5.98</td>\n",
       "      <td>10.69</td>\n",
       "      <td>37.6</td>\n",
       "    </tr>\n",
       "  </tbody>\n",
       "</table>\n",
       "</div>"
      ],
      "text/plain": [
       "             count         mean         std     min      25%      50%  \\\n",
       "user_id   137735.0  1247.658046  139.416268  1000.0  1128.00  1247.00   \n",
       "duration  137735.0     6.745927    5.839241     0.0     1.29     5.98   \n",
       "\n",
       "              75%     max  \n",
       "user_id   1365.00  1499.0  \n",
       "duration    10.69    37.6  "
      ]
     },
     "metadata": {},
     "output_type": "display_data"
    },
    {
     "name": "stdout",
     "output_type": "stream",
     "text": [
      "Number of duplicated rows : 0\n"
     ]
    }
   ],
   "source": [
    "investigate_data(calls_data)"
   ]
  },
  {
   "cell_type": "markdown",
   "id": "39f0e88f",
   "metadata": {
    "pycharm": {
     "name": "#%% md\n"
    }
   },
   "source": [
    "#### Conclusion"
   ]
  },
  {
   "cell_type": "markdown",
   "id": "f4eb7d3e",
   "metadata": {
    "pycharm": {
     "name": "#%% md\n"
    }
   },
   "source": [
    "The calls data seems fine.  There are no null-values.\n",
    "We notice that the id is composed of the user_id and the id of the call. I think it will be more useful for the id to be the id of the message itself and change the column to int.\n",
    "It seems there are some calls with duration 0, let's check them out."
   ]
  },
  {
   "cell_type": "code",
   "execution_count": 7,
   "id": "c8412bc2",
   "metadata": {
    "pycharm": {
     "name": "#%%\n"
    }
   },
   "outputs": [
    {
     "name": "stdout",
     "output_type": "stream",
     "text": [
      "We have 26834 instances of calls with duration 0, which is 19.48% of total\n"
     ]
    }
   ],
   "source": [
    "zeroValues=len(calls_data[calls_data['duration']==0])\n",
    "print('We have',zeroValues,'instances of calls with duration 0, which is {:.2%} of total'\n",
    "      .format(zeroValues/len(calls_data)))"
   ]
  },
  {
   "cell_type": "markdown",
   "id": "4fde109b",
   "metadata": {
    "pycharm": {
     "name": "#%% md\n"
    }
   },
   "source": [
    "That's a lot. Maybe they are missed calls? People don't answer the phone anymore? Maybe there is no reception? I don't think we should drop these rows, it will delete too much data."
   ]
  },
  {
   "cell_type": "markdown",
   "id": "a65cfea1",
   "metadata": {
    "pycharm": {
     "name": "#%% md\n"
    }
   },
   "source": [
    "### Internet Usage table"
   ]
  },
  {
   "cell_type": "code",
   "execution_count": 8,
   "id": "8e5eca0f",
   "metadata": {
    "pycharm": {
     "name": "#%%\n"
    }
   },
   "outputs": [
    {
     "name": "stdout",
     "output_type": "stream",
     "text": [
      " ==================== Table ==========================\n"
     ]
    },
    {
     "data": {
      "text/html": [
       "<div>\n",
       "<style scoped>\n",
       "    .dataframe tbody tr th:only-of-type {\n",
       "        vertical-align: middle;\n",
       "    }\n",
       "\n",
       "    .dataframe tbody tr th {\n",
       "        vertical-align: top;\n",
       "    }\n",
       "\n",
       "    .dataframe thead th {\n",
       "        text-align: right;\n",
       "    }\n",
       "</style>\n",
       "<table border=\"1\" class=\"dataframe\">\n",
       "  <thead>\n",
       "    <tr style=\"text-align: right;\">\n",
       "      <th></th>\n",
       "      <th>id</th>\n",
       "      <th>user_id</th>\n",
       "      <th>session_date</th>\n",
       "      <th>mb_used</th>\n",
       "    </tr>\n",
       "  </thead>\n",
       "  <tbody>\n",
       "    <tr>\n",
       "      <th>0</th>\n",
       "      <td>1000_13</td>\n",
       "      <td>1000</td>\n",
       "      <td>2018-12-29</td>\n",
       "      <td>89.86</td>\n",
       "    </tr>\n",
       "    <tr>\n",
       "      <th>1</th>\n",
       "      <td>1000_204</td>\n",
       "      <td>1000</td>\n",
       "      <td>2018-12-31</td>\n",
       "      <td>0.00</td>\n",
       "    </tr>\n",
       "    <tr>\n",
       "      <th>2</th>\n",
       "      <td>1000_379</td>\n",
       "      <td>1000</td>\n",
       "      <td>2018-12-28</td>\n",
       "      <td>660.40</td>\n",
       "    </tr>\n",
       "    <tr>\n",
       "      <th>3</th>\n",
       "      <td>1000_413</td>\n",
       "      <td>1000</td>\n",
       "      <td>2018-12-26</td>\n",
       "      <td>270.99</td>\n",
       "    </tr>\n",
       "    <tr>\n",
       "      <th>4</th>\n",
       "      <td>1000_442</td>\n",
       "      <td>1000</td>\n",
       "      <td>2018-12-27</td>\n",
       "      <td>880.22</td>\n",
       "    </tr>\n",
       "  </tbody>\n",
       "</table>\n",
       "</div>"
      ],
      "text/plain": [
       "         id  user_id session_date  mb_used\n",
       "0   1000_13     1000   2018-12-29    89.86\n",
       "1  1000_204     1000   2018-12-31     0.00\n",
       "2  1000_379     1000   2018-12-28   660.40\n",
       "3  1000_413     1000   2018-12-26   270.99\n",
       "4  1000_442     1000   2018-12-27   880.22"
      ]
     },
     "metadata": {},
     "output_type": "display_data"
    },
    {
     "name": "stdout",
     "output_type": "stream",
     "text": [
      " -------------------- Info ---------------------------\n",
      "<class 'pandas.core.frame.DataFrame'>\n",
      "RangeIndex: 104825 entries, 0 to 104824\n",
      "Data columns (total 4 columns):\n",
      " #   Column        Non-Null Count   Dtype  \n",
      "---  ------        --------------   -----  \n",
      " 0   id            104825 non-null  object \n",
      " 1   user_id       104825 non-null  int64  \n",
      " 2   session_date  104825 non-null  object \n",
      " 3   mb_used       104825 non-null  float64\n",
      "dtypes: float64(1), int64(1), object(2)\n",
      "memory usage: 3.2+ MB\n",
      "None\n",
      "The shape is: (104825, 4)\n",
      " -------------- Data description ----------------------\n"
     ]
    },
    {
     "data": {
      "text/html": [
       "<div>\n",
       "<style scoped>\n",
       "    .dataframe tbody tr th:only-of-type {\n",
       "        vertical-align: middle;\n",
       "    }\n",
       "\n",
       "    .dataframe tbody tr th {\n",
       "        vertical-align: top;\n",
       "    }\n",
       "\n",
       "    .dataframe thead th {\n",
       "        text-align: right;\n",
       "    }\n",
       "</style>\n",
       "<table border=\"1\" class=\"dataframe\">\n",
       "  <thead>\n",
       "    <tr style=\"text-align: right;\">\n",
       "      <th></th>\n",
       "      <th>count</th>\n",
       "      <th>mean</th>\n",
       "      <th>std</th>\n",
       "      <th>min</th>\n",
       "      <th>25%</th>\n",
       "      <th>50%</th>\n",
       "      <th>75%</th>\n",
       "      <th>max</th>\n",
       "    </tr>\n",
       "  </thead>\n",
       "  <tbody>\n",
       "    <tr>\n",
       "      <th>user_id</th>\n",
       "      <td>104825.0</td>\n",
       "      <td>1242.496361</td>\n",
       "      <td>142.053913</td>\n",
       "      <td>1000.0</td>\n",
       "      <td>1122.00</td>\n",
       "      <td>1236.00</td>\n",
       "      <td>1367.00</td>\n",
       "      <td>1499.00</td>\n",
       "    </tr>\n",
       "    <tr>\n",
       "      <th>mb_used</th>\n",
       "      <td>104825.0</td>\n",
       "      <td>366.713701</td>\n",
       "      <td>277.170542</td>\n",
       "      <td>0.0</td>\n",
       "      <td>136.08</td>\n",
       "      <td>343.98</td>\n",
       "      <td>554.61</td>\n",
       "      <td>1693.47</td>\n",
       "    </tr>\n",
       "  </tbody>\n",
       "</table>\n",
       "</div>"
      ],
      "text/plain": [
       "            count         mean         std     min      25%      50%      75%  \\\n",
       "user_id  104825.0  1242.496361  142.053913  1000.0  1122.00  1236.00  1367.00   \n",
       "mb_used  104825.0   366.713701  277.170542     0.0   136.08   343.98   554.61   \n",
       "\n",
       "             max  \n",
       "user_id  1499.00  \n",
       "mb_used  1693.47  "
      ]
     },
     "metadata": {},
     "output_type": "display_data"
    },
    {
     "name": "stdout",
     "output_type": "stream",
     "text": [
      "Number of duplicated rows : 0\n"
     ]
    }
   ],
   "source": [
    "investigate_data(internet_data)"
   ]
  },
  {
   "cell_type": "code",
   "execution_count": 9,
   "id": "161351f9",
   "metadata": {
    "pycharm": {
     "name": "#%%\n"
    }
   },
   "outputs": [
    {
     "data": {
      "text/plain": [
       "count         104825\n",
       "unique           351\n",
       "top       2018-12-24\n",
       "freq             851\n",
       "Name: session_date, dtype: object"
      ]
     },
     "execution_count": 9,
     "metadata": {},
     "output_type": "execute_result"
    }
   ],
   "source": [
    "internet_data['session_date'].describe()"
   ]
  },
  {
   "cell_type": "markdown",
   "id": "01e876da",
   "metadata": {
    "pycharm": {
     "name": "#%% md\n"
    }
   },
   "source": [
    "#### Conclusion"
   ]
  },
  {
   "cell_type": "markdown",
   "id": "88e9686b",
   "metadata": {
    "pycharm": {
     "name": "#%% md\n"
    }
   },
   "source": [
    "Another straight forward table, with no null values. We notice that we have only 351 dates in the database. We have some sessions with 0 mb used, we will have to check them out."
   ]
  },
  {
   "cell_type": "code",
   "execution_count": 10,
   "id": "b25a0e0c",
   "metadata": {
    "pycharm": {
     "name": "#%%\n"
    }
   },
   "outputs": [
    {
     "name": "stdout",
     "output_type": "stream",
     "text": [
      "We have 13747 instances of 0 megabytes used, which is 13.11% of total\n"
     ]
    }
   ],
   "source": [
    "zeroValues=len(internet_data[internet_data['mb_used']==0])\n",
    "print('We have',zeroValues,'instances of 0 megabytes used, which is {:.2%} of total'\n",
    "      .format(zeroValues/len(internet_data)))"
   ]
  },
  {
   "cell_type": "markdown",
   "id": "fb80f938",
   "metadata": {
    "pycharm": {
     "name": "#%% md\n"
    }
   },
   "source": [
    "That's quite a lot. Maybe the user attempted to connect to the internet and there was no reception? I don't think we should drop these rows, it will delete too much data."
   ]
  },
  {
   "cell_type": "markdown",
   "id": "213e2dd5",
   "metadata": {
    "pycharm": {
     "name": "#%% md\n"
    }
   },
   "source": [
    "### Messages Table"
   ]
  },
  {
   "cell_type": "code",
   "execution_count": 11,
   "id": "d5992380",
   "metadata": {
    "pycharm": {
     "name": "#%%\n"
    }
   },
   "outputs": [
    {
     "name": "stdout",
     "output_type": "stream",
     "text": [
      " ==================== Table ==========================\n"
     ]
    },
    {
     "data": {
      "text/html": [
       "<div>\n",
       "<style scoped>\n",
       "    .dataframe tbody tr th:only-of-type {\n",
       "        vertical-align: middle;\n",
       "    }\n",
       "\n",
       "    .dataframe tbody tr th {\n",
       "        vertical-align: top;\n",
       "    }\n",
       "\n",
       "    .dataframe thead th {\n",
       "        text-align: right;\n",
       "    }\n",
       "</style>\n",
       "<table border=\"1\" class=\"dataframe\">\n",
       "  <thead>\n",
       "    <tr style=\"text-align: right;\">\n",
       "      <th></th>\n",
       "      <th>id</th>\n",
       "      <th>user_id</th>\n",
       "      <th>message_date</th>\n",
       "    </tr>\n",
       "  </thead>\n",
       "  <tbody>\n",
       "    <tr>\n",
       "      <th>0</th>\n",
       "      <td>1000_125</td>\n",
       "      <td>1000</td>\n",
       "      <td>2018-12-27</td>\n",
       "    </tr>\n",
       "    <tr>\n",
       "      <th>1</th>\n",
       "      <td>1000_160</td>\n",
       "      <td>1000</td>\n",
       "      <td>2018-12-31</td>\n",
       "    </tr>\n",
       "    <tr>\n",
       "      <th>2</th>\n",
       "      <td>1000_223</td>\n",
       "      <td>1000</td>\n",
       "      <td>2018-12-31</td>\n",
       "    </tr>\n",
       "    <tr>\n",
       "      <th>3</th>\n",
       "      <td>1000_251</td>\n",
       "      <td>1000</td>\n",
       "      <td>2018-12-27</td>\n",
       "    </tr>\n",
       "    <tr>\n",
       "      <th>4</th>\n",
       "      <td>1000_255</td>\n",
       "      <td>1000</td>\n",
       "      <td>2018-12-26</td>\n",
       "    </tr>\n",
       "  </tbody>\n",
       "</table>\n",
       "</div>"
      ],
      "text/plain": [
       "         id  user_id message_date\n",
       "0  1000_125     1000   2018-12-27\n",
       "1  1000_160     1000   2018-12-31\n",
       "2  1000_223     1000   2018-12-31\n",
       "3  1000_251     1000   2018-12-27\n",
       "4  1000_255     1000   2018-12-26"
      ]
     },
     "metadata": {},
     "output_type": "display_data"
    },
    {
     "name": "stdout",
     "output_type": "stream",
     "text": [
      " -------------------- Info ---------------------------\n",
      "<class 'pandas.core.frame.DataFrame'>\n",
      "RangeIndex: 76051 entries, 0 to 76050\n",
      "Data columns (total 3 columns):\n",
      " #   Column        Non-Null Count  Dtype \n",
      "---  ------        --------------  ----- \n",
      " 0   id            76051 non-null  object\n",
      " 1   user_id       76051 non-null  int64 \n",
      " 2   message_date  76051 non-null  object\n",
      "dtypes: int64(1), object(2)\n",
      "memory usage: 1.7+ MB\n",
      "None\n",
      "The shape is: (76051, 3)\n",
      " -------------- Data description ----------------------\n"
     ]
    },
    {
     "data": {
      "text/html": [
       "<div>\n",
       "<style scoped>\n",
       "    .dataframe tbody tr th:only-of-type {\n",
       "        vertical-align: middle;\n",
       "    }\n",
       "\n",
       "    .dataframe tbody tr th {\n",
       "        vertical-align: top;\n",
       "    }\n",
       "\n",
       "    .dataframe thead th {\n",
       "        text-align: right;\n",
       "    }\n",
       "</style>\n",
       "<table border=\"1\" class=\"dataframe\">\n",
       "  <thead>\n",
       "    <tr style=\"text-align: right;\">\n",
       "      <th></th>\n",
       "      <th>count</th>\n",
       "      <th>mean</th>\n",
       "      <th>std</th>\n",
       "      <th>min</th>\n",
       "      <th>25%</th>\n",
       "      <th>50%</th>\n",
       "      <th>75%</th>\n",
       "      <th>max</th>\n",
       "    </tr>\n",
       "  </thead>\n",
       "  <tbody>\n",
       "    <tr>\n",
       "      <th>user_id</th>\n",
       "      <td>76051.0</td>\n",
       "      <td>1245.972768</td>\n",
       "      <td>139.843635</td>\n",
       "      <td>1000.0</td>\n",
       "      <td>1123.0</td>\n",
       "      <td>1251.0</td>\n",
       "      <td>1362.0</td>\n",
       "      <td>1497.0</td>\n",
       "    </tr>\n",
       "  </tbody>\n",
       "</table>\n",
       "</div>"
      ],
      "text/plain": [
       "           count         mean         std     min     25%     50%     75%  \\\n",
       "user_id  76051.0  1245.972768  139.843635  1000.0  1123.0  1251.0  1362.0   \n",
       "\n",
       "            max  \n",
       "user_id  1497.0  "
      ]
     },
     "metadata": {},
     "output_type": "display_data"
    },
    {
     "name": "stdout",
     "output_type": "stream",
     "text": [
      "Number of duplicated rows : 0\n"
     ]
    }
   ],
   "source": [
    "investigate_data(messages_data)"
   ]
  },
  {
   "cell_type": "code",
   "execution_count": 12,
   "id": "b268c450",
   "metadata": {
    "pycharm": {
     "name": "#%%\n"
    }
   },
   "outputs": [
    {
     "data": {
      "text/plain": [
       "count          76051\n",
       "unique           351\n",
       "top       2018-12-28\n",
       "freq             702\n",
       "Name: message_date, dtype: object"
      ]
     },
     "execution_count": 12,
     "metadata": {},
     "output_type": "execute_result"
    }
   ],
   "source": [
    "messages_data['message_date'].describe()"
   ]
  },
  {
   "cell_type": "markdown",
   "id": "b9f24680",
   "metadata": {
    "pycharm": {
     "name": "#%% md\n"
    }
   },
   "source": [
    "### Users table"
   ]
  },
  {
   "cell_type": "code",
   "execution_count": 13,
   "id": "67df5059",
   "metadata": {
    "pycharm": {
     "name": "#%%\n"
    }
   },
   "outputs": [
    {
     "name": "stdout",
     "output_type": "stream",
     "text": [
      " ==================== Table ==========================\n"
     ]
    },
    {
     "data": {
      "text/html": [
       "<div>\n",
       "<style scoped>\n",
       "    .dataframe tbody tr th:only-of-type {\n",
       "        vertical-align: middle;\n",
       "    }\n",
       "\n",
       "    .dataframe tbody tr th {\n",
       "        vertical-align: top;\n",
       "    }\n",
       "\n",
       "    .dataframe thead th {\n",
       "        text-align: right;\n",
       "    }\n",
       "</style>\n",
       "<table border=\"1\" class=\"dataframe\">\n",
       "  <thead>\n",
       "    <tr style=\"text-align: right;\">\n",
       "      <th></th>\n",
       "      <th>user_id</th>\n",
       "      <th>first_name</th>\n",
       "      <th>last_name</th>\n",
       "      <th>age</th>\n",
       "      <th>city</th>\n",
       "      <th>reg_date</th>\n",
       "      <th>tariff</th>\n",
       "      <th>churn_date</th>\n",
       "    </tr>\n",
       "  </thead>\n",
       "  <tbody>\n",
       "    <tr>\n",
       "      <th>0</th>\n",
       "      <td>1000</td>\n",
       "      <td>Anamaria</td>\n",
       "      <td>Bauer</td>\n",
       "      <td>45</td>\n",
       "      <td>Atlanta-Sandy Springs-Roswell, GA MSA</td>\n",
       "      <td>2018-12-24</td>\n",
       "      <td>ultimate</td>\n",
       "      <td>NaN</td>\n",
       "    </tr>\n",
       "    <tr>\n",
       "      <th>1</th>\n",
       "      <td>1001</td>\n",
       "      <td>Mickey</td>\n",
       "      <td>Wilkerson</td>\n",
       "      <td>28</td>\n",
       "      <td>Seattle-Tacoma-Bellevue, WA MSA</td>\n",
       "      <td>2018-08-13</td>\n",
       "      <td>surf</td>\n",
       "      <td>NaN</td>\n",
       "    </tr>\n",
       "    <tr>\n",
       "      <th>2</th>\n",
       "      <td>1002</td>\n",
       "      <td>Carlee</td>\n",
       "      <td>Hoffman</td>\n",
       "      <td>36</td>\n",
       "      <td>Las Vegas-Henderson-Paradise, NV MSA</td>\n",
       "      <td>2018-10-21</td>\n",
       "      <td>surf</td>\n",
       "      <td>NaN</td>\n",
       "    </tr>\n",
       "    <tr>\n",
       "      <th>3</th>\n",
       "      <td>1003</td>\n",
       "      <td>Reynaldo</td>\n",
       "      <td>Jenkins</td>\n",
       "      <td>52</td>\n",
       "      <td>Tulsa, OK MSA</td>\n",
       "      <td>2018-01-28</td>\n",
       "      <td>surf</td>\n",
       "      <td>NaN</td>\n",
       "    </tr>\n",
       "    <tr>\n",
       "      <th>4</th>\n",
       "      <td>1004</td>\n",
       "      <td>Leonila</td>\n",
       "      <td>Thompson</td>\n",
       "      <td>40</td>\n",
       "      <td>Seattle-Tacoma-Bellevue, WA MSA</td>\n",
       "      <td>2018-05-23</td>\n",
       "      <td>surf</td>\n",
       "      <td>NaN</td>\n",
       "    </tr>\n",
       "  </tbody>\n",
       "</table>\n",
       "</div>"
      ],
      "text/plain": [
       "   user_id first_name  last_name  age                                   city  \\\n",
       "0     1000   Anamaria      Bauer   45  Atlanta-Sandy Springs-Roswell, GA MSA   \n",
       "1     1001     Mickey  Wilkerson   28        Seattle-Tacoma-Bellevue, WA MSA   \n",
       "2     1002     Carlee    Hoffman   36   Las Vegas-Henderson-Paradise, NV MSA   \n",
       "3     1003   Reynaldo    Jenkins   52                          Tulsa, OK MSA   \n",
       "4     1004    Leonila   Thompson   40        Seattle-Tacoma-Bellevue, WA MSA   \n",
       "\n",
       "     reg_date    tariff churn_date  \n",
       "0  2018-12-24  ultimate        NaN  \n",
       "1  2018-08-13      surf        NaN  \n",
       "2  2018-10-21      surf        NaN  \n",
       "3  2018-01-28      surf        NaN  \n",
       "4  2018-05-23      surf        NaN  "
      ]
     },
     "metadata": {},
     "output_type": "display_data"
    },
    {
     "name": "stdout",
     "output_type": "stream",
     "text": [
      " -------------------- Info ---------------------------\n",
      "<class 'pandas.core.frame.DataFrame'>\n",
      "RangeIndex: 500 entries, 0 to 499\n",
      "Data columns (total 8 columns):\n",
      " #   Column      Non-Null Count  Dtype \n",
      "---  ------      --------------  ----- \n",
      " 0   user_id     500 non-null    int64 \n",
      " 1   first_name  500 non-null    object\n",
      " 2   last_name   500 non-null    object\n",
      " 3   age         500 non-null    int64 \n",
      " 4   city        500 non-null    object\n",
      " 5   reg_date    500 non-null    object\n",
      " 6   tariff      500 non-null    object\n",
      " 7   churn_date  34 non-null     object\n",
      "dtypes: int64(2), object(6)\n",
      "memory usage: 31.4+ KB\n",
      "None\n",
      "The shape is: (500, 8)\n",
      " -------------- Data description ----------------------\n"
     ]
    },
    {
     "data": {
      "text/html": [
       "<div>\n",
       "<style scoped>\n",
       "    .dataframe tbody tr th:only-of-type {\n",
       "        vertical-align: middle;\n",
       "    }\n",
       "\n",
       "    .dataframe tbody tr th {\n",
       "        vertical-align: top;\n",
       "    }\n",
       "\n",
       "    .dataframe thead th {\n",
       "        text-align: right;\n",
       "    }\n",
       "</style>\n",
       "<table border=\"1\" class=\"dataframe\">\n",
       "  <thead>\n",
       "    <tr style=\"text-align: right;\">\n",
       "      <th></th>\n",
       "      <th>count</th>\n",
       "      <th>mean</th>\n",
       "      <th>std</th>\n",
       "      <th>min</th>\n",
       "      <th>25%</th>\n",
       "      <th>50%</th>\n",
       "      <th>75%</th>\n",
       "      <th>max</th>\n",
       "    </tr>\n",
       "  </thead>\n",
       "  <tbody>\n",
       "    <tr>\n",
       "      <th>user_id</th>\n",
       "      <td>500.0</td>\n",
       "      <td>1249.500</td>\n",
       "      <td>144.481833</td>\n",
       "      <td>1000.0</td>\n",
       "      <td>1124.75</td>\n",
       "      <td>1249.5</td>\n",
       "      <td>1374.25</td>\n",
       "      <td>1499.0</td>\n",
       "    </tr>\n",
       "    <tr>\n",
       "      <th>age</th>\n",
       "      <td>500.0</td>\n",
       "      <td>45.486</td>\n",
       "      <td>16.972269</td>\n",
       "      <td>18.0</td>\n",
       "      <td>30.00</td>\n",
       "      <td>46.0</td>\n",
       "      <td>61.00</td>\n",
       "      <td>75.0</td>\n",
       "    </tr>\n",
       "  </tbody>\n",
       "</table>\n",
       "</div>"
      ],
      "text/plain": [
       "         count      mean         std     min      25%     50%      75%     max\n",
       "user_id  500.0  1249.500  144.481833  1000.0  1124.75  1249.5  1374.25  1499.0\n",
       "age      500.0    45.486   16.972269    18.0    30.00    46.0    61.00    75.0"
      ]
     },
     "metadata": {},
     "output_type": "display_data"
    },
    {
     "name": "stdout",
     "output_type": "stream",
     "text": [
      "Number of duplicated rows : 0\n"
     ]
    }
   ],
   "source": [
    "investigate_data(users_data)"
   ]
  },
  {
   "cell_type": "code",
   "execution_count": 14,
   "id": "df9026c2",
   "metadata": {
    "pycharm": {
     "name": "#%%\n"
    }
   },
   "outputs": [
    {
     "name": "stdout",
     "output_type": "stream",
     "text": [
      "We have 0 duplicate users.\n"
     ]
    }
   ],
   "source": [
    "print(\"We have\",users_data.duplicated().sum(),\"duplicate users.\")"
   ]
  },
  {
   "cell_type": "code",
   "execution_count": 15,
   "id": "ff6a4868",
   "metadata": {
    "pycharm": {
     "name": "#%%\n"
    },
    "scrolled": false
   },
   "outputs": [
    {
     "data": {
      "text/html": [
       "<div>\n",
       "<style scoped>\n",
       "    .dataframe tbody tr th:only-of-type {\n",
       "        vertical-align: middle;\n",
       "    }\n",
       "\n",
       "    .dataframe tbody tr th {\n",
       "        vertical-align: top;\n",
       "    }\n",
       "\n",
       "    .dataframe thead th {\n",
       "        text-align: right;\n",
       "    }\n",
       "</style>\n",
       "<table border=\"1\" class=\"dataframe\">\n",
       "  <thead>\n",
       "    <tr style=\"text-align: right;\">\n",
       "      <th></th>\n",
       "      <th>user_id</th>\n",
       "      <th>first_name</th>\n",
       "      <th>last_name</th>\n",
       "      <th>age</th>\n",
       "      <th>city</th>\n",
       "      <th>reg_date</th>\n",
       "      <th>tariff</th>\n",
       "      <th>churn_date</th>\n",
       "    </tr>\n",
       "  </thead>\n",
       "  <tbody>\n",
       "    <tr>\n",
       "      <th>466</th>\n",
       "      <td>1466</td>\n",
       "      <td>Alphonse</td>\n",
       "      <td>Harmon</td>\n",
       "      <td>56</td>\n",
       "      <td>Los Angeles-Long Beach-Anaheim, CA MSA</td>\n",
       "      <td>2018-01-26</td>\n",
       "      <td>surf</td>\n",
       "      <td>2018-09-17</td>\n",
       "    </tr>\n",
       "    <tr>\n",
       "      <th>191</th>\n",
       "      <td>1191</td>\n",
       "      <td>Zack</td>\n",
       "      <td>Waters</td>\n",
       "      <td>75</td>\n",
       "      <td>St. Louis, MO-IL MSA</td>\n",
       "      <td>2018-01-21</td>\n",
       "      <td>ultimate</td>\n",
       "      <td>2018-11-30</td>\n",
       "    </tr>\n",
       "    <tr>\n",
       "      <th>40</th>\n",
       "      <td>1040</td>\n",
       "      <td>Paris</td>\n",
       "      <td>Santos</td>\n",
       "      <td>72</td>\n",
       "      <td>Philadelphia-Camden-Wilmington, PA-NJ-DE-MD MSA</td>\n",
       "      <td>2018-12-23</td>\n",
       "      <td>surf</td>\n",
       "      <td>2018-12-30</td>\n",
       "    </tr>\n",
       "    <tr>\n",
       "      <th>416</th>\n",
       "      <td>1416</td>\n",
       "      <td>Deja</td>\n",
       "      <td>Moss</td>\n",
       "      <td>25</td>\n",
       "      <td>Minneapolis-St. Paul-Bloomington, MN-WI MSA</td>\n",
       "      <td>2018-10-03</td>\n",
       "      <td>surf</td>\n",
       "      <td>2018-11-21</td>\n",
       "    </tr>\n",
       "    <tr>\n",
       "      <th>441</th>\n",
       "      <td>1441</td>\n",
       "      <td>Piedad</td>\n",
       "      <td>Myers</td>\n",
       "      <td>23</td>\n",
       "      <td>Atlanta-Sandy Springs-Roswell, GA MSA</td>\n",
       "      <td>2018-03-08</td>\n",
       "      <td>ultimate</td>\n",
       "      <td>2018-08-19</td>\n",
       "    </tr>\n",
       "  </tbody>\n",
       "</table>\n",
       "</div>"
      ],
      "text/plain": [
       "     user_id first_name last_name  age  \\\n",
       "466     1466   Alphonse    Harmon   56   \n",
       "191     1191       Zack    Waters   75   \n",
       "40      1040      Paris    Santos   72   \n",
       "416     1416       Deja      Moss   25   \n",
       "441     1441     Piedad     Myers   23   \n",
       "\n",
       "                                                city    reg_date    tariff  \\\n",
       "466           Los Angeles-Long Beach-Anaheim, CA MSA  2018-01-26      surf   \n",
       "191                             St. Louis, MO-IL MSA  2018-01-21  ultimate   \n",
       "40   Philadelphia-Camden-Wilmington, PA-NJ-DE-MD MSA  2018-12-23      surf   \n",
       "416      Minneapolis-St. Paul-Bloomington, MN-WI MSA  2018-10-03      surf   \n",
       "441            Atlanta-Sandy Springs-Roswell, GA MSA  2018-03-08  ultimate   \n",
       "\n",
       "     churn_date  \n",
       "466  2018-09-17  \n",
       "191  2018-11-30  \n",
       "40   2018-12-30  \n",
       "416  2018-11-21  \n",
       "441  2018-08-19  "
      ]
     },
     "execution_count": 15,
     "metadata": {},
     "output_type": "execute_result"
    }
   ],
   "source": [
    "users_data[~users_data['churn_date'].isnull()].sample(5)"
   ]
  },
  {
   "cell_type": "markdown",
   "id": "cb49ef30",
   "metadata": {
    "pycharm": {
     "name": "#%% md\n"
    }
   },
   "source": [
    "### Conclusion"
   ]
  },
  {
   "cell_type": "markdown",
   "id": "dfd4b7c2",
   "metadata": {
    "pycharm": {
     "name": "#%% md\n"
    }
   },
   "source": [
    "We see no obvious flaws with the database. We thank the Megaline company for providing us quality data :)"
   ]
  },
  {
   "cell_type": "markdown",
   "id": "45230c5a",
   "metadata": {
    "pycharm": {
     "name": "#%% md\n"
    }
   },
   "source": [
    "We see that the data was taken over a period of 351 days in 2018. We will see later how the churn attribute affects the results"
   ]
  },
  {
   "cell_type": "markdown",
   "id": "40353d9a",
   "metadata": {
    "pycharm": {
     "name": "#%% md\n"
    }
   },
   "source": [
    "The id columns in *internet*, *message* and *calls* tables is a string composed of the id of the person and id of the message/call/etc. It might be that we will decide that it's better to drop the person id and turn it to int, but for now we will let it like this."
   ]
  },
  {
   "cell_type": "markdown",
   "id": "4f9bfd58",
   "metadata": {
    "pycharm": {
     "name": "#%% md\n"
    }
   },
   "source": [
    "We need to change the date columns type from object to date"
   ]
  },
  {
   "cell_type": "markdown",
   "id": "43d93d2e",
   "metadata": {
    "pycharm": {
     "name": "#%% md\n"
    }
   },
   "source": [
    "## Preparing the data"
   ]
  },
  {
   "cell_type": "markdown",
   "id": "1b1f137c",
   "metadata": {
    "pycharm": {
     "name": "#%% md\n"
    }
   },
   "source": [
    "### Changing the the date columns type from object to date"
   ]
  },
  {
   "cell_type": "code",
   "execution_count": 16,
   "id": "11e2c6fc",
   "metadata": {
    "pycharm": {
     "name": "#%%\n"
    }
   },
   "outputs": [],
   "source": [
    "internet_data['session_date'] = pd.to_datetime(internet_data['session_date'], format='%Y-%m-%d')\n",
    "messages_data['message_date'] = pd.to_datetime(messages_data['message_date'], format='%Y-%m-%d')\n",
    "calls_data['call_date'] = pd.to_datetime(calls_data['call_date'], format='%Y-%m-%d')"
   ]
  },
  {
   "cell_type": "code",
   "execution_count": 17,
   "id": "47a9368c",
   "metadata": {
    "pycharm": {
     "name": "#%%\n"
    }
   },
   "outputs": [
    {
     "name": "stdout",
     "output_type": "stream",
     "text": [
      "<class 'pandas.core.frame.DataFrame'>\n",
      "RangeIndex: 104825 entries, 0 to 104824\n",
      "Data columns (total 4 columns):\n",
      " #   Column        Non-Null Count   Dtype         \n",
      "---  ------        --------------   -----         \n",
      " 0   id            104825 non-null  object        \n",
      " 1   user_id       104825 non-null  int64         \n",
      " 2   session_date  104825 non-null  datetime64[ns]\n",
      " 3   mb_used       104825 non-null  float64       \n",
      "dtypes: datetime64[ns](1), float64(1), int64(1), object(1)\n",
      "memory usage: 3.2+ MB\n"
     ]
    }
   ],
   "source": [
    "internet_data.info()"
   ]
  },
  {
   "cell_type": "code",
   "execution_count": 18,
   "id": "d0aff5ca",
   "metadata": {
    "pycharm": {
     "name": "#%%\n"
    }
   },
   "outputs": [
    {
     "name": "stdout",
     "output_type": "stream",
     "text": [
      "<class 'pandas.core.frame.DataFrame'>\n",
      "RangeIndex: 76051 entries, 0 to 76050\n",
      "Data columns (total 3 columns):\n",
      " #   Column        Non-Null Count  Dtype         \n",
      "---  ------        --------------  -----         \n",
      " 0   id            76051 non-null  object        \n",
      " 1   user_id       76051 non-null  int64         \n",
      " 2   message_date  76051 non-null  datetime64[ns]\n",
      "dtypes: datetime64[ns](1), int64(1), object(1)\n",
      "memory usage: 1.7+ MB\n"
     ]
    }
   ],
   "source": [
    "messages_data.info()"
   ]
  },
  {
   "cell_type": "code",
   "execution_count": 19,
   "id": "4a666d24",
   "metadata": {
    "pycharm": {
     "name": "#%%\n"
    }
   },
   "outputs": [
    {
     "name": "stdout",
     "output_type": "stream",
     "text": [
      "<class 'pandas.core.frame.DataFrame'>\n",
      "RangeIndex: 137735 entries, 0 to 137734\n",
      "Data columns (total 4 columns):\n",
      " #   Column     Non-Null Count   Dtype         \n",
      "---  ------     --------------   -----         \n",
      " 0   id         137735 non-null  object        \n",
      " 1   user_id    137735 non-null  int64         \n",
      " 2   call_date  137735 non-null  datetime64[ns]\n",
      " 3   duration   137735 non-null  float64       \n",
      "dtypes: datetime64[ns](1), float64(1), int64(1), object(1)\n",
      "memory usage: 4.2+ MB\n"
     ]
    }
   ],
   "source": [
    "calls_data.info()"
   ]
  },
  {
   "cell_type": "markdown",
   "id": "d9955b9d",
   "metadata": {
    "pycharm": {
     "name": "#%% md\n"
    }
   },
   "source": [
    "### Conclusion\n",
    "Types were change succesful to *datetime64*"
   ]
  },
  {
   "cell_type": "markdown",
   "id": "eb43f6f2",
   "metadata": {
    "pycharm": {
     "name": "#%% md\n"
    }
   },
   "source": [
    "### Grouping the data based on user and month\n",
    "We have daily data for our users, but in truth we are only interested in monthly data. Since all the data is from year 2018, we will aggregate all data based on user_id and month."
   ]
  },
  {
   "cell_type": "code",
   "execution_count": 20,
   "id": "5bdbc3dc",
   "metadata": {
    "pycharm": {
     "name": "#%%\n"
    }
   },
   "outputs": [],
   "source": [
    "messages_data['month']=pd.DatetimeIndex(messages_data['message_date']).month\n",
    "internet_data['month']=pd.DatetimeIndex(internet_data['session_date']).month\n",
    "calls_data['month']=pd.DatetimeIndex(calls_data['call_date']).month"
   ]
  },
  {
   "cell_type": "code",
   "execution_count": 21,
   "id": "d15ab15c",
   "metadata": {
    "pycharm": {
     "name": "#%%\n"
    }
   },
   "outputs": [],
   "source": [
    "#these tables will be grouped by user and month\n",
    "complete_messages_monthly_data=messages_data.groupby(['user_id','month'])['message_date'].\\\n",
    "                agg(month_messages='count').reset_index()\n",
    "complete_calls_monthly_data=calls_data.groupby(['user_id','month'])['duration'].\\\n",
    "                agg(month_call_duration='sum',month_call_number='count').reset_index()\n",
    "complete_internet_monthly_data=internet_data.groupby(['user_id','month'])['mb_used'].\\\n",
    "                agg(month_data_size='sum',month_data_connection='count').reset_index()"
   ]
  },
  {
   "cell_type": "code",
   "execution_count": 22,
   "id": "9c6fe4fe",
   "metadata": {
    "pycharm": {
     "name": "#%%\n"
    }
   },
   "outputs": [],
   "source": [
    "#these tables will be grouped by user and month and holds monthly averages\n",
    "messages_monthly_data=messages_data.groupby(['user_id','month'])['message_date'].\\\n",
    "                agg(month_messages='count').groupby('user_id').agg('mean').reset_index()\n",
    "calls_monthly_data=calls_data.groupby(['user_id','month'])['duration'].\\\n",
    "                agg(month_call_duration='sum',month_call_number='count').groupby('user_id').agg('mean','mean').reset_index()\n",
    "internet_monthly_data=internet_data.groupby(['user_id','month'])['mb_used'].\\\n",
    "                agg(month_data_size='sum',month_data_connection='count').groupby('user_id').agg('mean','mean').reset_index()"
   ]
  },
  {
   "cell_type": "code",
   "execution_count": 23,
   "id": "9c66b3b1",
   "metadata": {
    "pycharm": {
     "name": "#%%\n"
    }
   },
   "outputs": [
    {
     "data": {
      "text/html": [
       "<div>\n",
       "<style scoped>\n",
       "    .dataframe tbody tr th:only-of-type {\n",
       "        vertical-align: middle;\n",
       "    }\n",
       "\n",
       "    .dataframe tbody tr th {\n",
       "        vertical-align: top;\n",
       "    }\n",
       "\n",
       "    .dataframe thead th {\n",
       "        text-align: right;\n",
       "    }\n",
       "</style>\n",
       "<table border=\"1\" class=\"dataframe\">\n",
       "  <thead>\n",
       "    <tr style=\"text-align: right;\">\n",
       "      <th></th>\n",
       "      <th>user_id</th>\n",
       "      <th>month_messages</th>\n",
       "    </tr>\n",
       "  </thead>\n",
       "  <tbody>\n",
       "    <tr>\n",
       "      <th>391</th>\n",
       "      <td>1483</td>\n",
       "      <td>8.571429</td>\n",
       "    </tr>\n",
       "    <tr>\n",
       "      <th>254</th>\n",
       "      <td>1315</td>\n",
       "      <td>28.000000</td>\n",
       "    </tr>\n",
       "    <tr>\n",
       "      <th>152</th>\n",
       "      <td>1189</td>\n",
       "      <td>33.500000</td>\n",
       "    </tr>\n",
       "    <tr>\n",
       "      <th>148</th>\n",
       "      <td>1184</td>\n",
       "      <td>37.000000</td>\n",
       "    </tr>\n",
       "    <tr>\n",
       "      <th>164</th>\n",
       "      <td>1201</td>\n",
       "      <td>6.714286</td>\n",
       "    </tr>\n",
       "  </tbody>\n",
       "</table>\n",
       "</div>"
      ],
      "text/plain": [
       "     user_id  month_messages\n",
       "391     1483        8.571429\n",
       "254     1315       28.000000\n",
       "152     1189       33.500000\n",
       "148     1184       37.000000\n",
       "164     1201        6.714286"
      ]
     },
     "execution_count": 23,
     "metadata": {},
     "output_type": "execute_result"
    }
   ],
   "source": [
    "messages_monthly_data.sample(5)"
   ]
  },
  {
   "cell_type": "code",
   "execution_count": 24,
   "id": "81cdf7a3",
   "metadata": {
    "pycharm": {
     "name": "#%%\n"
    }
   },
   "outputs": [
    {
     "data": {
      "text/html": [
       "<div>\n",
       "<style scoped>\n",
       "    .dataframe tbody tr th:only-of-type {\n",
       "        vertical-align: middle;\n",
       "    }\n",
       "\n",
       "    .dataframe tbody tr th {\n",
       "        vertical-align: top;\n",
       "    }\n",
       "\n",
       "    .dataframe thead th {\n",
       "        text-align: right;\n",
       "    }\n",
       "</style>\n",
       "<table border=\"1\" class=\"dataframe\">\n",
       "  <thead>\n",
       "    <tr style=\"text-align: right;\">\n",
       "      <th></th>\n",
       "      <th>user_id</th>\n",
       "      <th>month_call_duration</th>\n",
       "      <th>month_call_number</th>\n",
       "    </tr>\n",
       "  </thead>\n",
       "  <tbody>\n",
       "    <tr>\n",
       "      <th>302</th>\n",
       "      <td>1316</td>\n",
       "      <td>182.3525</td>\n",
       "      <td>28.5</td>\n",
       "    </tr>\n",
       "    <tr>\n",
       "      <th>120</th>\n",
       "      <td>1125</td>\n",
       "      <td>489.5100</td>\n",
       "      <td>65.0</td>\n",
       "    </tr>\n",
       "    <tr>\n",
       "      <th>368</th>\n",
       "      <td>1385</td>\n",
       "      <td>414.5070</td>\n",
       "      <td>61.0</td>\n",
       "    </tr>\n",
       "    <tr>\n",
       "      <th>227</th>\n",
       "      <td>1238</td>\n",
       "      <td>442.4550</td>\n",
       "      <td>64.0</td>\n",
       "    </tr>\n",
       "    <tr>\n",
       "      <th>316</th>\n",
       "      <td>1331</td>\n",
       "      <td>337.4140</td>\n",
       "      <td>47.0</td>\n",
       "    </tr>\n",
       "  </tbody>\n",
       "</table>\n",
       "</div>"
      ],
      "text/plain": [
       "     user_id  month_call_duration  month_call_number\n",
       "302     1316             182.3525               28.5\n",
       "120     1125             489.5100               65.0\n",
       "368     1385             414.5070               61.0\n",
       "227     1238             442.4550               64.0\n",
       "316     1331             337.4140               47.0"
      ]
     },
     "execution_count": 24,
     "metadata": {},
     "output_type": "execute_result"
    }
   ],
   "source": [
    "calls_monthly_data.sample(5)"
   ]
  },
  {
   "cell_type": "markdown",
   "id": "03a7b859",
   "metadata": {
    "pycharm": {
     "name": "#%% md\n"
    }
   },
   "source": [
    "### Updating user data"
   ]
  },
  {
   "cell_type": "markdown",
   "id": "46d18049",
   "metadata": {
    "pycharm": {
     "name": "#%% md\n"
    }
   },
   "source": [
    "We need to compute for each user the folowing data:\n",
    "    - The number of calls made and minutes used per month\n",
    "    - The number of text messages sent per month\n",
    "    - The volume of data per month\n",
    "All these datas will be added as columns for each user.\n",
    "\n",
    "In the end we calculate the monthly revenue from each user according to the formula:\n",
    "<br>\n",
    "$ \\ \\ \\ \\ \\ \\ \\ \\ \\ \\ \\ \\ \\ \\ \\ \\ \\ \\ \\ \\ \\ \\ \\ \\ \\ \\ \\ \\ \\ \\ \\ \\ \\ \\ \\ \\ \\ \\ \\ \\ \\ \\ \\ \\ \\ \\ \\ \\ \\ \\ \\ \\ \\ \\ \\ \\ \\ \\ \\ \\ \\ \\ \\ \\ \\ \\ \\ monthly\\  pay + \\\\\n",
    "\\ \\ \\ \\ (messages_{monthly}-messages_{included}) * per\\ message + \\\\\n",
    "(megabytes_{monthly}-megabytes_{included}) * per\\ megabyte + \\\\\n",
    "\\ \\ \\ \\ \\ \\ \\ \\ \\ \\ \\ \\ \\ \\  \\ \\ \\ \\ \\ \\ \\ \\ \\ \\ \\ \\  \\ \\ (calls_{monthly}-calls_{included}) * per\\ call \\\\\n",
    "$    "
   ]
  },
  {
   "cell_type": "code",
   "execution_count": 25,
   "id": "8b7d8a2a",
   "metadata": {
    "pycharm": {
     "name": "#%%\n"
    }
   },
   "outputs": [
    {
     "data": {
      "text/html": [
       "<div>\n",
       "<style scoped>\n",
       "    .dataframe tbody tr th:only-of-type {\n",
       "        vertical-align: middle;\n",
       "    }\n",
       "\n",
       "    .dataframe tbody tr th {\n",
       "        vertical-align: top;\n",
       "    }\n",
       "\n",
       "    .dataframe thead th {\n",
       "        text-align: right;\n",
       "    }\n",
       "</style>\n",
       "<table border=\"1\" class=\"dataframe\">\n",
       "  <thead>\n",
       "    <tr style=\"text-align: right;\">\n",
       "      <th></th>\n",
       "      <th>messages_included</th>\n",
       "      <th>mb_per_month_included</th>\n",
       "      <th>minutes_included</th>\n",
       "      <th>usd_monthly_pay</th>\n",
       "      <th>usd_per_gb</th>\n",
       "      <th>usd_per_message</th>\n",
       "      <th>usd_per_minute</th>\n",
       "      <th>plan_name</th>\n",
       "    </tr>\n",
       "  </thead>\n",
       "  <tbody>\n",
       "    <tr>\n",
       "      <th>0</th>\n",
       "      <td>50</td>\n",
       "      <td>15360</td>\n",
       "      <td>500</td>\n",
       "      <td>20</td>\n",
       "      <td>10</td>\n",
       "      <td>0.03</td>\n",
       "      <td>0.03</td>\n",
       "      <td>surf</td>\n",
       "    </tr>\n",
       "    <tr>\n",
       "      <th>1</th>\n",
       "      <td>1000</td>\n",
       "      <td>30720</td>\n",
       "      <td>3000</td>\n",
       "      <td>70</td>\n",
       "      <td>7</td>\n",
       "      <td>0.01</td>\n",
       "      <td>0.01</td>\n",
       "      <td>ultimate</td>\n",
       "    </tr>\n",
       "  </tbody>\n",
       "</table>\n",
       "</div>"
      ],
      "text/plain": [
       "   messages_included  mb_per_month_included  minutes_included  \\\n",
       "0                 50                  15360               500   \n",
       "1               1000                  30720              3000   \n",
       "\n",
       "   usd_monthly_pay  usd_per_gb  usd_per_message  usd_per_minute plan_name  \n",
       "0               20          10             0.03            0.03      surf  \n",
       "1               70           7             0.01            0.01  ultimate  "
      ]
     },
     "execution_count": 25,
     "metadata": {},
     "output_type": "execute_result"
    }
   ],
   "source": [
    "plans_data"
   ]
  },
  {
   "cell_type": "code",
   "execution_count": 26,
   "id": "a822abf8",
   "metadata": {
    "pycharm": {
     "name": "#%%\n"
    }
   },
   "outputs": [],
   "source": [
    "from functools import reduce"
   ]
  },
  {
   "cell_type": "code",
   "execution_count": 27,
   "id": "9ef51fc6",
   "metadata": {
    "pycharm": {
     "name": "#%%\n"
    }
   },
   "outputs": [],
   "source": [
    "def merge_data_plan(service1,service2,service3):\n",
    "    #we use the reduce function to merge the table in an elegant way\n",
    "    our_data = [service1, service2,service3]\n",
    "    df_merged = reduce(lambda left,right: pd.merge(left,right,on=['user_id'],\n",
    "                                            how='outer'), our_data)\n",
    "    return pd.merge(users_data,df_merged,on='user_id')"
   ]
  },
  {
   "cell_type": "code",
   "execution_count": 28,
   "id": "54844df4",
   "metadata": {
    "pycharm": {
     "name": "#%%\n"
    }
   },
   "outputs": [],
   "source": [
    "full_users_data=merge_data_plan(internet_monthly_data,calls_monthly_data,messages_monthly_data)"
   ]
  },
  {
   "cell_type": "code",
   "execution_count": 29,
   "id": "35281b8c",
   "metadata": {
    "pycharm": {
     "name": "#%%\n"
    }
   },
   "outputs": [],
   "source": [
    "def complete_merge_data_plan(service1,service2,service3):\n",
    "    #we use the reduce function to merge the table in an elegant way\n",
    "    our_data = [service1, service2,service3]\n",
    "    df_merged = reduce(lambda left,right: pd.merge(left,right,on=['user_id','month'],\n",
    "                                            how='outer'), our_data)\n",
    "    return pd.merge(users_data,df_merged,on='user_id')"
   ]
  },
  {
   "cell_type": "code",
   "execution_count": 30,
   "id": "4392c447",
   "metadata": {
    "pycharm": {
     "name": "#%%\n"
    }
   },
   "outputs": [],
   "source": [
    "complete_users_data=complete_merge_data_plan(complete_internet_monthly_data,complete_calls_monthly_data,complete_messages_monthly_data)"
   ]
  },
  {
   "cell_type": "code",
   "execution_count": 31,
   "id": "1ec137a2",
   "metadata": {
    "pycharm": {
     "name": "#%%\n"
    }
   },
   "outputs": [
    {
     "data": {
      "text/html": [
       "<div>\n",
       "<style scoped>\n",
       "    .dataframe tbody tr th:only-of-type {\n",
       "        vertical-align: middle;\n",
       "    }\n",
       "\n",
       "    .dataframe tbody tr th {\n",
       "        vertical-align: top;\n",
       "    }\n",
       "\n",
       "    .dataframe thead th {\n",
       "        text-align: right;\n",
       "    }\n",
       "</style>\n",
       "<table border=\"1\" class=\"dataframe\">\n",
       "  <thead>\n",
       "    <tr style=\"text-align: right;\">\n",
       "      <th></th>\n",
       "      <th>user_id</th>\n",
       "      <th>first_name</th>\n",
       "      <th>last_name</th>\n",
       "      <th>age</th>\n",
       "      <th>city</th>\n",
       "      <th>reg_date</th>\n",
       "      <th>tariff</th>\n",
       "      <th>churn_date</th>\n",
       "      <th>month</th>\n",
       "      <th>month_data_size</th>\n",
       "      <th>month_data_connection</th>\n",
       "      <th>month_call_duration</th>\n",
       "      <th>month_call_number</th>\n",
       "      <th>month_messages</th>\n",
       "    </tr>\n",
       "  </thead>\n",
       "  <tbody>\n",
       "    <tr>\n",
       "      <th>0</th>\n",
       "      <td>1000</td>\n",
       "      <td>Anamaria</td>\n",
       "      <td>Bauer</td>\n",
       "      <td>45</td>\n",
       "      <td>Atlanta-Sandy Springs-Roswell, GA MSA</td>\n",
       "      <td>2018-12-24</td>\n",
       "      <td>ultimate</td>\n",
       "      <td>NaN</td>\n",
       "      <td>12</td>\n",
       "      <td>1901.47</td>\n",
       "      <td>5.0</td>\n",
       "      <td>116.83</td>\n",
       "      <td>16.0</td>\n",
       "      <td>11.0</td>\n",
       "    </tr>\n",
       "    <tr>\n",
       "      <th>1</th>\n",
       "      <td>1001</td>\n",
       "      <td>Mickey</td>\n",
       "      <td>Wilkerson</td>\n",
       "      <td>28</td>\n",
       "      <td>Seattle-Tacoma-Bellevue, WA MSA</td>\n",
       "      <td>2018-08-13</td>\n",
       "      <td>surf</td>\n",
       "      <td>NaN</td>\n",
       "      <td>8</td>\n",
       "      <td>6919.15</td>\n",
       "      <td>25.0</td>\n",
       "      <td>171.14</td>\n",
       "      <td>27.0</td>\n",
       "      <td>30.0</td>\n",
       "    </tr>\n",
       "    <tr>\n",
       "      <th>2</th>\n",
       "      <td>1001</td>\n",
       "      <td>Mickey</td>\n",
       "      <td>Wilkerson</td>\n",
       "      <td>28</td>\n",
       "      <td>Seattle-Tacoma-Bellevue, WA MSA</td>\n",
       "      <td>2018-08-13</td>\n",
       "      <td>surf</td>\n",
       "      <td>NaN</td>\n",
       "      <td>9</td>\n",
       "      <td>13314.82</td>\n",
       "      <td>53.0</td>\n",
       "      <td>297.69</td>\n",
       "      <td>49.0</td>\n",
       "      <td>44.0</td>\n",
       "    </tr>\n",
       "    <tr>\n",
       "      <th>3</th>\n",
       "      <td>1001</td>\n",
       "      <td>Mickey</td>\n",
       "      <td>Wilkerson</td>\n",
       "      <td>28</td>\n",
       "      <td>Seattle-Tacoma-Bellevue, WA MSA</td>\n",
       "      <td>2018-08-13</td>\n",
       "      <td>surf</td>\n",
       "      <td>NaN</td>\n",
       "      <td>10</td>\n",
       "      <td>22330.49</td>\n",
       "      <td>56.0</td>\n",
       "      <td>374.11</td>\n",
       "      <td>65.0</td>\n",
       "      <td>53.0</td>\n",
       "    </tr>\n",
       "    <tr>\n",
       "      <th>4</th>\n",
       "      <td>1001</td>\n",
       "      <td>Mickey</td>\n",
       "      <td>Wilkerson</td>\n",
       "      <td>28</td>\n",
       "      <td>Seattle-Tacoma-Bellevue, WA MSA</td>\n",
       "      <td>2018-08-13</td>\n",
       "      <td>surf</td>\n",
       "      <td>NaN</td>\n",
       "      <td>11</td>\n",
       "      <td>18504.30</td>\n",
       "      <td>51.0</td>\n",
       "      <td>404.59</td>\n",
       "      <td>64.0</td>\n",
       "      <td>36.0</td>\n",
       "    </tr>\n",
       "    <tr>\n",
       "      <th>...</th>\n",
       "      <td>...</td>\n",
       "      <td>...</td>\n",
       "      <td>...</td>\n",
       "      <td>...</td>\n",
       "      <td>...</td>\n",
       "      <td>...</td>\n",
       "      <td>...</td>\n",
       "      <td>...</td>\n",
       "      <td>...</td>\n",
       "      <td>...</td>\n",
       "      <td>...</td>\n",
       "      <td>...</td>\n",
       "      <td>...</td>\n",
       "      <td>...</td>\n",
       "    </tr>\n",
       "    <tr>\n",
       "      <th>2288</th>\n",
       "      <td>1498</td>\n",
       "      <td>Scot</td>\n",
       "      <td>Williamson</td>\n",
       "      <td>51</td>\n",
       "      <td>New York-Newark-Jersey City, NY-NJ-PA MSA</td>\n",
       "      <td>2018-02-04</td>\n",
       "      <td>surf</td>\n",
       "      <td>NaN</td>\n",
       "      <td>12</td>\n",
       "      <td>23137.69</td>\n",
       "      <td>65.0</td>\n",
       "      <td>324.77</td>\n",
       "      <td>39.0</td>\n",
       "      <td>NaN</td>\n",
       "    </tr>\n",
       "    <tr>\n",
       "      <th>2289</th>\n",
       "      <td>1499</td>\n",
       "      <td>Shena</td>\n",
       "      <td>Dickson</td>\n",
       "      <td>37</td>\n",
       "      <td>Orlando-Kissimmee-Sanford, FL MSA</td>\n",
       "      <td>2018-05-06</td>\n",
       "      <td>surf</td>\n",
       "      <td>NaN</td>\n",
       "      <td>9</td>\n",
       "      <td>12984.76</td>\n",
       "      <td>45.0</td>\n",
       "      <td>330.37</td>\n",
       "      <td>41.0</td>\n",
       "      <td>NaN</td>\n",
       "    </tr>\n",
       "    <tr>\n",
       "      <th>2290</th>\n",
       "      <td>1499</td>\n",
       "      <td>Shena</td>\n",
       "      <td>Dickson</td>\n",
       "      <td>37</td>\n",
       "      <td>Orlando-Kissimmee-Sanford, FL MSA</td>\n",
       "      <td>2018-05-06</td>\n",
       "      <td>surf</td>\n",
       "      <td>NaN</td>\n",
       "      <td>10</td>\n",
       "      <td>19492.43</td>\n",
       "      <td>61.0</td>\n",
       "      <td>363.28</td>\n",
       "      <td>53.0</td>\n",
       "      <td>NaN</td>\n",
       "    </tr>\n",
       "    <tr>\n",
       "      <th>2291</th>\n",
       "      <td>1499</td>\n",
       "      <td>Shena</td>\n",
       "      <td>Dickson</td>\n",
       "      <td>37</td>\n",
       "      <td>Orlando-Kissimmee-Sanford, FL MSA</td>\n",
       "      <td>2018-05-06</td>\n",
       "      <td>surf</td>\n",
       "      <td>NaN</td>\n",
       "      <td>11</td>\n",
       "      <td>16813.83</td>\n",
       "      <td>49.0</td>\n",
       "      <td>288.56</td>\n",
       "      <td>45.0</td>\n",
       "      <td>NaN</td>\n",
       "    </tr>\n",
       "    <tr>\n",
       "      <th>2292</th>\n",
       "      <td>1499</td>\n",
       "      <td>Shena</td>\n",
       "      <td>Dickson</td>\n",
       "      <td>37</td>\n",
       "      <td>Orlando-Kissimmee-Sanford, FL MSA</td>\n",
       "      <td>2018-05-06</td>\n",
       "      <td>surf</td>\n",
       "      <td>NaN</td>\n",
       "      <td>12</td>\n",
       "      <td>22059.21</td>\n",
       "      <td>65.0</td>\n",
       "      <td>468.10</td>\n",
       "      <td>65.0</td>\n",
       "      <td>NaN</td>\n",
       "    </tr>\n",
       "  </tbody>\n",
       "</table>\n",
       "<p>2293 rows × 14 columns</p>\n",
       "</div>"
      ],
      "text/plain": [
       "      user_id first_name   last_name  age  \\\n",
       "0        1000   Anamaria       Bauer   45   \n",
       "1        1001     Mickey   Wilkerson   28   \n",
       "2        1001     Mickey   Wilkerson   28   \n",
       "3        1001     Mickey   Wilkerson   28   \n",
       "4        1001     Mickey   Wilkerson   28   \n",
       "...       ...        ...         ...  ...   \n",
       "2288     1498       Scot  Williamson   51   \n",
       "2289     1499      Shena     Dickson   37   \n",
       "2290     1499      Shena     Dickson   37   \n",
       "2291     1499      Shena     Dickson   37   \n",
       "2292     1499      Shena     Dickson   37   \n",
       "\n",
       "                                           city    reg_date    tariff  \\\n",
       "0         Atlanta-Sandy Springs-Roswell, GA MSA  2018-12-24  ultimate   \n",
       "1               Seattle-Tacoma-Bellevue, WA MSA  2018-08-13      surf   \n",
       "2               Seattle-Tacoma-Bellevue, WA MSA  2018-08-13      surf   \n",
       "3               Seattle-Tacoma-Bellevue, WA MSA  2018-08-13      surf   \n",
       "4               Seattle-Tacoma-Bellevue, WA MSA  2018-08-13      surf   \n",
       "...                                         ...         ...       ...   \n",
       "2288  New York-Newark-Jersey City, NY-NJ-PA MSA  2018-02-04      surf   \n",
       "2289          Orlando-Kissimmee-Sanford, FL MSA  2018-05-06      surf   \n",
       "2290          Orlando-Kissimmee-Sanford, FL MSA  2018-05-06      surf   \n",
       "2291          Orlando-Kissimmee-Sanford, FL MSA  2018-05-06      surf   \n",
       "2292          Orlando-Kissimmee-Sanford, FL MSA  2018-05-06      surf   \n",
       "\n",
       "     churn_date  month  month_data_size  month_data_connection  \\\n",
       "0           NaN     12          1901.47                    5.0   \n",
       "1           NaN      8          6919.15                   25.0   \n",
       "2           NaN      9         13314.82                   53.0   \n",
       "3           NaN     10         22330.49                   56.0   \n",
       "4           NaN     11         18504.30                   51.0   \n",
       "...         ...    ...              ...                    ...   \n",
       "2288        NaN     12         23137.69                   65.0   \n",
       "2289        NaN      9         12984.76                   45.0   \n",
       "2290        NaN     10         19492.43                   61.0   \n",
       "2291        NaN     11         16813.83                   49.0   \n",
       "2292        NaN     12         22059.21                   65.0   \n",
       "\n",
       "      month_call_duration  month_call_number  month_messages  \n",
       "0                  116.83               16.0            11.0  \n",
       "1                  171.14               27.0            30.0  \n",
       "2                  297.69               49.0            44.0  \n",
       "3                  374.11               65.0            53.0  \n",
       "4                  404.59               64.0            36.0  \n",
       "...                   ...                ...             ...  \n",
       "2288               324.77               39.0             NaN  \n",
       "2289               330.37               41.0             NaN  \n",
       "2290               363.28               53.0             NaN  \n",
       "2291               288.56               45.0             NaN  \n",
       "2292               468.10               65.0             NaN  \n",
       "\n",
       "[2293 rows x 14 columns]"
      ]
     },
     "execution_count": 31,
     "metadata": {},
     "output_type": "execute_result"
    }
   ],
   "source": [
    "complete_users_data"
   ]
  },
  {
   "cell_type": "code",
   "execution_count": 32,
   "id": "e81c5c3d",
   "metadata": {
    "pycharm": {
     "name": "#%%\n"
    }
   },
   "outputs": [
    {
     "data": {
      "text/plain": [
       "490"
      ]
     },
     "execution_count": 32,
     "metadata": {},
     "output_type": "execute_result"
    }
   ],
   "source": [
    "full_users_data.user_id.nunique()"
   ]
  },
  {
   "cell_type": "code",
   "execution_count": 33,
   "id": "05252d60",
   "metadata": {
    "pycharm": {
     "name": "#%%\n"
    }
   },
   "outputs": [
    {
     "data": {
      "text/html": [
       "<div>\n",
       "<style scoped>\n",
       "    .dataframe tbody tr th:only-of-type {\n",
       "        vertical-align: middle;\n",
       "    }\n",
       "\n",
       "    .dataframe tbody tr th {\n",
       "        vertical-align: top;\n",
       "    }\n",
       "\n",
       "    .dataframe thead th {\n",
       "        text-align: right;\n",
       "    }\n",
       "</style>\n",
       "<table border=\"1\" class=\"dataframe\">\n",
       "  <thead>\n",
       "    <tr style=\"text-align: right;\">\n",
       "      <th></th>\n",
       "      <th>user_id</th>\n",
       "      <th>month_call_duration</th>\n",
       "      <th>month_call_number</th>\n",
       "    </tr>\n",
       "  </thead>\n",
       "  <tbody>\n",
       "    <tr>\n",
       "      <th>461</th>\n",
       "      <td>1480</td>\n",
       "      <td>511.510000</td>\n",
       "      <td>70.0</td>\n",
       "    </tr>\n",
       "    <tr>\n",
       "      <th>199</th>\n",
       "      <td>1210</td>\n",
       "      <td>449.570000</td>\n",
       "      <td>67.0</td>\n",
       "    </tr>\n",
       "    <tr>\n",
       "      <th>324</th>\n",
       "      <td>1339</td>\n",
       "      <td>22.378750</td>\n",
       "      <td>3.0</td>\n",
       "    </tr>\n",
       "    <tr>\n",
       "      <th>82</th>\n",
       "      <td>1084</td>\n",
       "      <td>581.726667</td>\n",
       "      <td>85.0</td>\n",
       "    </tr>\n",
       "    <tr>\n",
       "      <th>401</th>\n",
       "      <td>1418</td>\n",
       "      <td>214.998000</td>\n",
       "      <td>32.0</td>\n",
       "    </tr>\n",
       "  </tbody>\n",
       "</table>\n",
       "</div>"
      ],
      "text/plain": [
       "     user_id  month_call_duration  month_call_number\n",
       "461     1480           511.510000               70.0\n",
       "199     1210           449.570000               67.0\n",
       "324     1339            22.378750                3.0\n",
       "82      1084           581.726667               85.0\n",
       "401     1418           214.998000               32.0"
      ]
     },
     "execution_count": 33,
     "metadata": {},
     "output_type": "execute_result"
    }
   ],
   "source": [
    "calls_monthly_data.sample(5)"
   ]
  },
  {
   "cell_type": "code",
   "execution_count": 34,
   "id": "bf14660d",
   "metadata": {
    "pycharm": {
     "name": "#%%\n"
    }
   },
   "outputs": [],
   "source": [
    "full_users_data=full_users_data.fillna(0)"
   ]
  },
  {
   "cell_type": "code",
   "execution_count": 35,
   "id": "3abcb176",
   "metadata": {
    "pycharm": {
     "name": "#%%\n"
    }
   },
   "outputs": [
    {
     "name": "stdout",
     "output_type": "stream",
     "text": [
      "<class 'pandas.core.frame.DataFrame'>\n",
      "Int64Index: 2293 entries, 0 to 2292\n",
      "Data columns (total 14 columns):\n",
      " #   Column                 Non-Null Count  Dtype  \n",
      "---  ------                 --------------  -----  \n",
      " 0   user_id                2293 non-null   int64  \n",
      " 1   first_name             2293 non-null   object \n",
      " 2   last_name              2293 non-null   object \n",
      " 3   age                    2293 non-null   int64  \n",
      " 4   city                   2293 non-null   object \n",
      " 5   reg_date               2293 non-null   object \n",
      " 6   tariff                 2293 non-null   object \n",
      " 7   churn_date             158 non-null    object \n",
      " 8   month                  2293 non-null   int64  \n",
      " 9   month_data_size        2277 non-null   float64\n",
      " 10  month_data_connection  2277 non-null   float64\n",
      " 11  month_call_duration    2258 non-null   float64\n",
      " 12  month_call_number      2258 non-null   float64\n",
      " 13  month_messages         1806 non-null   float64\n",
      "dtypes: float64(5), int64(3), object(6)\n",
      "memory usage: 268.7+ KB\n"
     ]
    }
   ],
   "source": [
    "complete_users_data.info()"
   ]
  },
  {
   "cell_type": "code",
   "execution_count": 36,
   "id": "27c189fd",
   "metadata": {
    "pycharm": {
     "name": "#%%\n"
    }
   },
   "outputs": [],
   "source": [
    "complete_users_data.fillna(0,inplace=True)"
   ]
  },
  {
   "cell_type": "markdown",
   "id": "daf63a4a",
   "metadata": {
    "pycharm": {
     "name": "#%% md\n"
    }
   },
   "source": [
    "We create a function to compute the total monthly payments"
   ]
  },
  {
   "cell_type": "code",
   "execution_count": 37,
   "id": "60686e17",
   "metadata": {
    "pycharm": {
     "name": "#%%\n"
    }
   },
   "outputs": [],
   "source": [
    "def payments(row):\n",
    "    plan = plans_data[plans_data['plan_name']==row['tariff']]\n",
    "    result = plan.usd_monthly_pay.values[0]\n",
    "    #The user only pays for messages/data/calls only if they exceed his plan\n",
    "    if (row.month_data_size>plan.mb_per_month_included.values[0]):\n",
    "        result+=plan.usd_per_gb.values[0]*(1+(row.month_data_size-plan.mb_per_month_included.values[0])/1024)\n",
    "              #The user pays for a full GB even if less than a GB was used. Instead of importing math and using ceil we simply add 1.\n",
    "    if (row.month_call_duration>plan.minutes_included.values[0]):\n",
    "        result+=plan.usd_per_minute.values[0]*math.ceil(row.month_call_duration-plan.minutes_included.values[0])\n",
    "    if (row.month_messages>plan.messages_included.values[0]):\n",
    "        result+=plan.usd_per_message.values[0]*(row.month_messages-plan.messages_included.values[0])\n",
    "    return result"
   ]
  },
  {
   "cell_type": "markdown",
   "id": "760259ea",
   "metadata": {
    "pycharm": {
     "name": "#%% md\n"
    }
   },
   "source": [
    "We apply the function we made to create the column of average monthly payment for each user"
   ]
  },
  {
   "cell_type": "code",
   "execution_count": 38,
   "id": "b788825f",
   "metadata": {
    "pycharm": {
     "name": "#%%\n"
    }
   },
   "outputs": [
    {
     "data": {
      "text/html": [
       "<div>\n",
       "<style scoped>\n",
       "    .dataframe tbody tr th:only-of-type {\n",
       "        vertical-align: middle;\n",
       "    }\n",
       "\n",
       "    .dataframe tbody tr th {\n",
       "        vertical-align: top;\n",
       "    }\n",
       "\n",
       "    .dataframe thead th {\n",
       "        text-align: right;\n",
       "    }\n",
       "</style>\n",
       "<table border=\"1\" class=\"dataframe\">\n",
       "  <thead>\n",
       "    <tr style=\"text-align: right;\">\n",
       "      <th></th>\n",
       "      <th>user_id</th>\n",
       "      <th>first_name</th>\n",
       "      <th>last_name</th>\n",
       "      <th>age</th>\n",
       "      <th>city</th>\n",
       "      <th>reg_date</th>\n",
       "      <th>tariff</th>\n",
       "      <th>churn_date</th>\n",
       "      <th>month_data_size</th>\n",
       "      <th>month_data_connection</th>\n",
       "      <th>month_call_duration</th>\n",
       "      <th>month_call_number</th>\n",
       "      <th>month_messages</th>\n",
       "      <th>avg_monthly_payment</th>\n",
       "    </tr>\n",
       "  </thead>\n",
       "  <tbody>\n",
       "    <tr>\n",
       "      <th>428</th>\n",
       "      <td>1436</td>\n",
       "      <td>Jennine</td>\n",
       "      <td>Kinney</td>\n",
       "      <td>69</td>\n",
       "      <td>Philadelphia-Camden-Wilmington, PA-NJ-DE-MD MSA</td>\n",
       "      <td>2018-08-26</td>\n",
       "      <td>ultimate</td>\n",
       "      <td>0</td>\n",
       "      <td>14389.730000</td>\n",
       "      <td>42.2</td>\n",
       "      <td>426.7240</td>\n",
       "      <td>60.200000</td>\n",
       "      <td>0.00</td>\n",
       "      <td>70.000000</td>\n",
       "    </tr>\n",
       "    <tr>\n",
       "      <th>117</th>\n",
       "      <td>1118</td>\n",
       "      <td>Deane</td>\n",
       "      <td>Ramirez</td>\n",
       "      <td>28</td>\n",
       "      <td>Columbus, OH MSA</td>\n",
       "      <td>2018-12-08</td>\n",
       "      <td>surf</td>\n",
       "      <td>0</td>\n",
       "      <td>15963.980000</td>\n",
       "      <td>29.0</td>\n",
       "      <td>862.7800</td>\n",
       "      <td>115.000000</td>\n",
       "      <td>17.00</td>\n",
       "      <td>46.788242</td>\n",
       "    </tr>\n",
       "    <tr>\n",
       "      <th>314</th>\n",
       "      <td>1321</td>\n",
       "      <td>Karlyn</td>\n",
       "      <td>Jimenez</td>\n",
       "      <td>19</td>\n",
       "      <td>North Port-Sarasota-Bradenton, FL MSA</td>\n",
       "      <td>2018-05-31</td>\n",
       "      <td>surf</td>\n",
       "      <td>0</td>\n",
       "      <td>19621.930000</td>\n",
       "      <td>59.0</td>\n",
       "      <td>474.9100</td>\n",
       "      <td>68.714286</td>\n",
       "      <td>0.00</td>\n",
       "      <td>71.620410</td>\n",
       "    </tr>\n",
       "    <tr>\n",
       "      <th>383</th>\n",
       "      <td>1391</td>\n",
       "      <td>Errol</td>\n",
       "      <td>Cooke</td>\n",
       "      <td>52</td>\n",
       "      <td>New York-Newark-Jersey City, NY-NJ-PA MSA</td>\n",
       "      <td>2018-09-11</td>\n",
       "      <td>ultimate</td>\n",
       "      <td>0</td>\n",
       "      <td>15260.442500</td>\n",
       "      <td>48.5</td>\n",
       "      <td>498.7025</td>\n",
       "      <td>68.500000</td>\n",
       "      <td>30.25</td>\n",
       "      <td>70.000000</td>\n",
       "    </tr>\n",
       "    <tr>\n",
       "      <th>219</th>\n",
       "      <td>1222</td>\n",
       "      <td>Cleo</td>\n",
       "      <td>Anderson</td>\n",
       "      <td>18</td>\n",
       "      <td>Los Angeles-Long Beach-Anaheim, CA MSA</td>\n",
       "      <td>2018-06-27</td>\n",
       "      <td>surf</td>\n",
       "      <td>0</td>\n",
       "      <td>18535.863333</td>\n",
       "      <td>52.0</td>\n",
       "      <td>504.3600</td>\n",
       "      <td>71.000000</td>\n",
       "      <td>18.00</td>\n",
       "      <td>61.164290</td>\n",
       "    </tr>\n",
       "  </tbody>\n",
       "</table>\n",
       "</div>"
      ],
      "text/plain": [
       "     user_id first_name last_name  age  \\\n",
       "428     1436    Jennine    Kinney   69   \n",
       "117     1118      Deane   Ramirez   28   \n",
       "314     1321     Karlyn   Jimenez   19   \n",
       "383     1391      Errol     Cooke   52   \n",
       "219     1222       Cleo  Anderson   18   \n",
       "\n",
       "                                                city    reg_date    tariff  \\\n",
       "428  Philadelphia-Camden-Wilmington, PA-NJ-DE-MD MSA  2018-08-26  ultimate   \n",
       "117                                 Columbus, OH MSA  2018-12-08      surf   \n",
       "314            North Port-Sarasota-Bradenton, FL MSA  2018-05-31      surf   \n",
       "383        New York-Newark-Jersey City, NY-NJ-PA MSA  2018-09-11  ultimate   \n",
       "219           Los Angeles-Long Beach-Anaheim, CA MSA  2018-06-27      surf   \n",
       "\n",
       "    churn_date  month_data_size  month_data_connection  month_call_duration  \\\n",
       "428          0     14389.730000                   42.2             426.7240   \n",
       "117          0     15963.980000                   29.0             862.7800   \n",
       "314          0     19621.930000                   59.0             474.9100   \n",
       "383          0     15260.442500                   48.5             498.7025   \n",
       "219          0     18535.863333                   52.0             504.3600   \n",
       "\n",
       "     month_call_number  month_messages  avg_monthly_payment  \n",
       "428          60.200000            0.00            70.000000  \n",
       "117         115.000000           17.00            46.788242  \n",
       "314          68.714286            0.00            71.620410  \n",
       "383          68.500000           30.25            70.000000  \n",
       "219          71.000000           18.00            61.164290  "
      ]
     },
     "execution_count": 38,
     "metadata": {},
     "output_type": "execute_result"
    }
   ],
   "source": [
    "full_users_data['avg_monthly_payment']=full_users_data.apply(payments,axis=1)\n",
    "full_users_data.sample(5)"
   ]
  },
  {
   "cell_type": "code",
   "execution_count": 39,
   "id": "9b762781",
   "metadata": {
    "pycharm": {
     "name": "#%%\n"
    }
   },
   "outputs": [
    {
     "data": {
      "text/html": [
       "<div>\n",
       "<style scoped>\n",
       "    .dataframe tbody tr th:only-of-type {\n",
       "        vertical-align: middle;\n",
       "    }\n",
       "\n",
       "    .dataframe tbody tr th {\n",
       "        vertical-align: top;\n",
       "    }\n",
       "\n",
       "    .dataframe thead th {\n",
       "        text-align: right;\n",
       "    }\n",
       "</style>\n",
       "<table border=\"1\" class=\"dataframe\">\n",
       "  <thead>\n",
       "    <tr style=\"text-align: right;\">\n",
       "      <th></th>\n",
       "      <th>user_id</th>\n",
       "      <th>first_name</th>\n",
       "      <th>last_name</th>\n",
       "      <th>age</th>\n",
       "      <th>city</th>\n",
       "      <th>reg_date</th>\n",
       "      <th>tariff</th>\n",
       "      <th>churn_date</th>\n",
       "      <th>month</th>\n",
       "      <th>month_data_size</th>\n",
       "      <th>month_data_connection</th>\n",
       "      <th>month_call_duration</th>\n",
       "      <th>month_call_number</th>\n",
       "      <th>month_messages</th>\n",
       "      <th>monthly_payment</th>\n",
       "    </tr>\n",
       "  </thead>\n",
       "  <tbody>\n",
       "    <tr>\n",
       "      <th>0</th>\n",
       "      <td>1000</td>\n",
       "      <td>Anamaria</td>\n",
       "      <td>Bauer</td>\n",
       "      <td>45</td>\n",
       "      <td>Atlanta-Sandy Springs-Roswell, GA MSA</td>\n",
       "      <td>2018-12-24</td>\n",
       "      <td>ultimate</td>\n",
       "      <td>0</td>\n",
       "      <td>12</td>\n",
       "      <td>1901.47</td>\n",
       "      <td>5.0</td>\n",
       "      <td>116.83</td>\n",
       "      <td>16.0</td>\n",
       "      <td>11.0</td>\n",
       "      <td>70.000000</td>\n",
       "    </tr>\n",
       "    <tr>\n",
       "      <th>1</th>\n",
       "      <td>1001</td>\n",
       "      <td>Mickey</td>\n",
       "      <td>Wilkerson</td>\n",
       "      <td>28</td>\n",
       "      <td>Seattle-Tacoma-Bellevue, WA MSA</td>\n",
       "      <td>2018-08-13</td>\n",
       "      <td>surf</td>\n",
       "      <td>0</td>\n",
       "      <td>8</td>\n",
       "      <td>6919.15</td>\n",
       "      <td>25.0</td>\n",
       "      <td>171.14</td>\n",
       "      <td>27.0</td>\n",
       "      <td>30.0</td>\n",
       "      <td>20.000000</td>\n",
       "    </tr>\n",
       "    <tr>\n",
       "      <th>2</th>\n",
       "      <td>1001</td>\n",
       "      <td>Mickey</td>\n",
       "      <td>Wilkerson</td>\n",
       "      <td>28</td>\n",
       "      <td>Seattle-Tacoma-Bellevue, WA MSA</td>\n",
       "      <td>2018-08-13</td>\n",
       "      <td>surf</td>\n",
       "      <td>0</td>\n",
       "      <td>9</td>\n",
       "      <td>13314.82</td>\n",
       "      <td>53.0</td>\n",
       "      <td>297.69</td>\n",
       "      <td>49.0</td>\n",
       "      <td>44.0</td>\n",
       "      <td>20.000000</td>\n",
       "    </tr>\n",
       "    <tr>\n",
       "      <th>3</th>\n",
       "      <td>1001</td>\n",
       "      <td>Mickey</td>\n",
       "      <td>Wilkerson</td>\n",
       "      <td>28</td>\n",
       "      <td>Seattle-Tacoma-Bellevue, WA MSA</td>\n",
       "      <td>2018-08-13</td>\n",
       "      <td>surf</td>\n",
       "      <td>0</td>\n",
       "      <td>10</td>\n",
       "      <td>22330.49</td>\n",
       "      <td>56.0</td>\n",
       "      <td>374.11</td>\n",
       "      <td>65.0</td>\n",
       "      <td>53.0</td>\n",
       "      <td>98.161191</td>\n",
       "    </tr>\n",
       "    <tr>\n",
       "      <th>4</th>\n",
       "      <td>1001</td>\n",
       "      <td>Mickey</td>\n",
       "      <td>Wilkerson</td>\n",
       "      <td>28</td>\n",
       "      <td>Seattle-Tacoma-Bellevue, WA MSA</td>\n",
       "      <td>2018-08-13</td>\n",
       "      <td>surf</td>\n",
       "      <td>0</td>\n",
       "      <td>11</td>\n",
       "      <td>18504.30</td>\n",
       "      <td>51.0</td>\n",
       "      <td>404.59</td>\n",
       "      <td>64.0</td>\n",
       "      <td>36.0</td>\n",
       "      <td>60.706055</td>\n",
       "    </tr>\n",
       "  </tbody>\n",
       "</table>\n",
       "</div>"
      ],
      "text/plain": [
       "   user_id first_name  last_name  age                                   city  \\\n",
       "0     1000   Anamaria      Bauer   45  Atlanta-Sandy Springs-Roswell, GA MSA   \n",
       "1     1001     Mickey  Wilkerson   28        Seattle-Tacoma-Bellevue, WA MSA   \n",
       "2     1001     Mickey  Wilkerson   28        Seattle-Tacoma-Bellevue, WA MSA   \n",
       "3     1001     Mickey  Wilkerson   28        Seattle-Tacoma-Bellevue, WA MSA   \n",
       "4     1001     Mickey  Wilkerson   28        Seattle-Tacoma-Bellevue, WA MSA   \n",
       "\n",
       "     reg_date    tariff churn_date  month  month_data_size  \\\n",
       "0  2018-12-24  ultimate          0     12          1901.47   \n",
       "1  2018-08-13      surf          0      8          6919.15   \n",
       "2  2018-08-13      surf          0      9         13314.82   \n",
       "3  2018-08-13      surf          0     10         22330.49   \n",
       "4  2018-08-13      surf          0     11         18504.30   \n",
       "\n",
       "   month_data_connection  month_call_duration  month_call_number  \\\n",
       "0                    5.0               116.83               16.0   \n",
       "1                   25.0               171.14               27.0   \n",
       "2                   53.0               297.69               49.0   \n",
       "3                   56.0               374.11               65.0   \n",
       "4                   51.0               404.59               64.0   \n",
       "\n",
       "   month_messages  monthly_payment  \n",
       "0            11.0        70.000000  \n",
       "1            30.0        20.000000  \n",
       "2            44.0        20.000000  \n",
       "3            53.0        98.161191  \n",
       "4            36.0        60.706055  "
      ]
     },
     "execution_count": 39,
     "metadata": {},
     "output_type": "execute_result"
    }
   ],
   "source": [
    "complete_users_data['monthly_payment']=complete_users_data.apply(payments,axis=1)\n",
    "complete_users_data.head(5)"
   ]
  },
  {
   "cell_type": "markdown",
   "id": "8a7a1eda",
   "metadata": {
    "pycharm": {
     "name": "#%% md\n"
    }
   },
   "source": [
    "### Conclusion\n",
    "Now we know for each user what is his average payment to our company. We can now begin to analyze it."
   ]
  },
  {
   "cell_type": "markdown",
   "id": "ecdbc2fd",
   "metadata": {
    "pycharm": {
     "name": "#%% md\n"
    }
   },
   "source": [
    "## Analyzing customer behaviour"
   ]
  },
  {
   "cell_type": "markdown",
   "id": "5eb7a347",
   "metadata": {
    "pycharm": {
     "name": "#%% md\n"
    }
   },
   "source": [
    "### Mean, Dispersion and Standard Deviation"
   ]
  },
  {
   "cell_type": "markdown",
   "id": "de06a2ce",
   "metadata": {
    "pycharm": {
     "name": "#%% md\n"
    }
   },
   "source": [
    "We create a new DataFrame named customer behaviour  which will hold the mean, dispersion and standard deviation of the mean, messages and data of all users and respectively only of users that are not churned (safe users). We can use it to make understand why do users drop out of our plans."
   ]
  },
  {
   "cell_type": "code",
   "execution_count": 40,
   "id": "06724b2f",
   "metadata": {
    "pycharm": {
     "name": "#%%\n"
    }
   },
   "outputs": [],
   "source": [
    "customer_behaviour=pd.DataFrame(index=['safe_minutes','safe_messages','safe_data','surf_minutes','surf_messages','surf_data','ultimate_minutes','ultimate_messages','ultimate_data','churn_minutes','churn_messages','churn_data'],columns=['mean','variance','sigma'])"
   ]
  },
  {
   "cell_type": "code",
   "execution_count": 41,
   "id": "c96aa08e",
   "metadata": {
    "pycharm": {
     "name": "#%%\n"
    }
   },
   "outputs": [],
   "source": [
    "customer_behaviour.loc['surf_minutes','mean']=full_users_data.query('tariff==\"surf\"').month_call_duration.mean()\n",
    "customer_behaviour.loc['surf_messages','mean']=full_users_data.query('tariff==\"surf\"').month_messages.mean()\n",
    "customer_behaviour.loc['surf_data','mean']=full_users_data.query('tariff==\"surf\"').month_data_size.mean()"
   ]
  },
  {
   "cell_type": "code",
   "execution_count": 42,
   "id": "d300914d",
   "metadata": {
    "pycharm": {
     "name": "#%%\n"
    }
   },
   "outputs": [],
   "source": [
    "customer_behaviour.loc['surf_minutes','variance']=full_users_data.query('tariff==\"surf\"').month_call_duration.var()\n",
    "customer_behaviour.loc['surf_messages','variance']=full_users_data.query('tariff==\"surf\"').month_messages.var()\n",
    "customer_behaviour.loc['surf_data','variance']=full_users_data.query('tariff==\"surf\"').month_data_size.var()"
   ]
  },
  {
   "cell_type": "code",
   "execution_count": 43,
   "id": "1066bd6c",
   "metadata": {
    "pycharm": {
     "name": "#%%\n"
    }
   },
   "outputs": [],
   "source": [
    "customer_behaviour.loc['surf_minutes','sigma']=np.sqrt(customer_behaviour.loc['surf_minutes','variance'])\n",
    "customer_behaviour.loc['surf_messages','sigma']=np.sqrt(customer_behaviour.loc['surf_messages','variance'])\n",
    "customer_behaviour.loc['surf_data','sigma']=np.sqrt(customer_behaviour.loc['surf_data','variance'])"
   ]
  },
  {
   "cell_type": "code",
   "execution_count": 44,
   "id": "94339ad0",
   "metadata": {
    "pycharm": {
     "name": "#%%\n"
    }
   },
   "outputs": [],
   "source": [
    "customer_behaviour.loc['ultimate_minutes','mean']=full_users_data.query('tariff==\"ultimate\"').month_call_duration.mean()\n",
    "customer_behaviour.loc['ultimate_messages','mean']=full_users_data.query('tariff==\"ultimate\"').month_messages.mean()\n",
    "customer_behaviour.loc['ultimate_data','mean']=full_users_data.query('tariff==\"ultimate\"').month_data_size.mean()"
   ]
  },
  {
   "cell_type": "code",
   "execution_count": 45,
   "id": "15712f58",
   "metadata": {
    "pycharm": {
     "name": "#%%\n"
    }
   },
   "outputs": [],
   "source": [
    "customer_behaviour.loc['ultimate_minutes','variance']=full_users_data.query('tariff==\"ultimate\"').month_call_duration.var()\n",
    "customer_behaviour.loc['ultimate_messages','variance']=full_users_data.query('tariff==\"ultimate\"').month_messages.var()\n",
    "customer_behaviour.loc['ultimate_data','variance']=full_users_data.query('tariff==\"ultimate\"').month_data_size.var()"
   ]
  },
  {
   "cell_type": "code",
   "execution_count": 46,
   "id": "75ee5448",
   "metadata": {
    "pycharm": {
     "name": "#%%\n"
    }
   },
   "outputs": [],
   "source": [
    "customer_behaviour.loc['ultimate_minutes','sigma']=np.sqrt(customer_behaviour.loc['ultimate_minutes','variance'])\n",
    "customer_behaviour.loc['ultimate_messages','sigma']=np.sqrt(customer_behaviour.loc['ultimate_messages','variance'])\n",
    "customer_behaviour.loc['ultimate_data','sigma']=np.sqrt(customer_behaviour.loc['ultimate_data','variance'])"
   ]
  },
  {
   "cell_type": "code",
   "execution_count": 47,
   "id": "de3e5525",
   "metadata": {
    "pycharm": {
     "name": "#%%\n"
    }
   },
   "outputs": [],
   "source": [
    "customer_behaviour.loc['churn_minutes','mean']=full_users_data.query('churn_date!=0').month_call_duration.mean()\n",
    "customer_behaviour.loc['churn_messages','mean']=full_users_data.query('churn_date!=0').month_messages.mean()\n",
    "customer_behaviour.loc['churn_data','mean']=full_users_data.query('churn_date!=0').month_data_size.mean()"
   ]
  },
  {
   "cell_type": "code",
   "execution_count": 48,
   "id": "bac3b5ee",
   "metadata": {
    "pycharm": {
     "name": "#%%\n"
    }
   },
   "outputs": [],
   "source": [
    "customer_behaviour.loc['churn_minutes','sigma']=np.sqrt(customer_behaviour.loc['churn_minutes','variance'])\n",
    "customer_behaviour.loc['churn_messages','sigma']=np.sqrt(customer_behaviour.loc['churn_messages','variance'])\n",
    "customer_behaviour.loc['churn_data','sigma']=np.sqrt(customer_behaviour.loc['churn_data','variance'])"
   ]
  },
  {
   "cell_type": "code",
   "execution_count": 49,
   "id": "edad36d6",
   "metadata": {
    "pycharm": {
     "name": "#%%\n"
    }
   },
   "outputs": [],
   "source": [
    "customer_behaviour.loc['churn_minutes','variance']=full_users_data.query('churn_date!=0').month_call_duration.var()\n",
    "customer_behaviour.loc['churn_messages','variance']=full_users_data.query('churn_date!=0').month_messages.var()\n",
    "customer_behaviour.loc['churn_data','variance']=full_users_data.query('churn_date!=0').month_data_size.var()"
   ]
  },
  {
   "cell_type": "code",
   "execution_count": 50,
   "id": "8c112382",
   "metadata": {
    "pycharm": {
     "name": "#%%\n"
    }
   },
   "outputs": [],
   "source": [
    "customer_behaviour.loc['safe_minutes','variance']=full_users_data.query('churn_date==0').month_call_duration.var()\n",
    "customer_behaviour.loc['safe_messages','variance']=full_users_data.query('churn_date==0').month_messages.var()\n",
    "customer_behaviour.loc['safe_data','variance']=full_users_data.query('churn_date==0').month_data_size.var()"
   ]
  },
  {
   "cell_type": "code",
   "execution_count": 51,
   "id": "cc4744eb",
   "metadata": {
    "pycharm": {
     "name": "#%%\n"
    }
   },
   "outputs": [],
   "source": [
    "customer_behaviour.loc['safe_minutes','mean']=full_users_data.query('churn_date==0').month_call_duration.mean()\n",
    "customer_behaviour.loc['safe_messages','mean']=full_users_data.query('churn_date==0').month_messages.mean()\n",
    "customer_behaviour.loc['safe_data','mean']=full_users_data.query('churn_date==0').month_data_size.mean()"
   ]
  },
  {
   "cell_type": "code",
   "execution_count": 52,
   "id": "12a1d870",
   "metadata": {
    "pycharm": {
     "name": "#%%\n"
    }
   },
   "outputs": [],
   "source": [
    "customer_behaviour.loc['safe_minutes','sigma']=np.sqrt(customer_behaviour.loc['safe_minutes','variance'])\n",
    "customer_behaviour.loc['safe_messages','sigma']=np.sqrt(customer_behaviour.loc['safe_messages','variance'])\n",
    "customer_behaviour.loc['safe_data','sigma']=np.sqrt(customer_behaviour.loc['safe_data','variance'])"
   ]
  },
  {
   "cell_type": "code",
   "execution_count": 53,
   "id": "8b79bcad",
   "metadata": {
    "pycharm": {
     "name": "#%%\n"
    },
    "scrolled": true
   },
   "outputs": [
    {
     "data": {
      "text/html": [
       "<div>\n",
       "<style scoped>\n",
       "    .dataframe tbody tr th:only-of-type {\n",
       "        vertical-align: middle;\n",
       "    }\n",
       "\n",
       "    .dataframe tbody tr th {\n",
       "        vertical-align: top;\n",
       "    }\n",
       "\n",
       "    .dataframe thead th {\n",
       "        text-align: right;\n",
       "    }\n",
       "</style>\n",
       "<table border=\"1\" class=\"dataframe\">\n",
       "  <thead>\n",
       "    <tr style=\"text-align: right;\">\n",
       "      <th></th>\n",
       "      <th>mean</th>\n",
       "      <th>variance</th>\n",
       "      <th>sigma</th>\n",
       "    </tr>\n",
       "  </thead>\n",
       "  <tbody>\n",
       "    <tr>\n",
       "      <th>safe_minutes</th>\n",
       "      <td>387.279897</td>\n",
       "      <td>36220.891142</td>\n",
       "      <td>190.317869</td>\n",
       "    </tr>\n",
       "    <tr>\n",
       "      <th>safe_messages</th>\n",
       "      <td>34.619993</td>\n",
       "      <td>1017.531239</td>\n",
       "      <td>31.898765</td>\n",
       "    </tr>\n",
       "    <tr>\n",
       "      <th>safe_data</th>\n",
       "      <td>15992.497779</td>\n",
       "      <td>38115125.16234</td>\n",
       "      <td>6173.744825</td>\n",
       "    </tr>\n",
       "    <tr>\n",
       "      <th>surf_minutes</th>\n",
       "      <td>386.028867</td>\n",
       "      <td>35490.395928</td>\n",
       "      <td>188.388949</td>\n",
       "    </tr>\n",
       "    <tr>\n",
       "      <th>surf_messages</th>\n",
       "      <td>32.543539</td>\n",
       "      <td>962.940689</td>\n",
       "      <td>31.031286</td>\n",
       "    </tr>\n",
       "    <tr>\n",
       "      <th>surf_data</th>\n",
       "      <td>15913.792689</td>\n",
       "      <td>38392011.539508</td>\n",
       "      <td>6196.128754</td>\n",
       "    </tr>\n",
       "    <tr>\n",
       "      <th>ultimate_minutes</th>\n",
       "      <td>386.324576</td>\n",
       "      <td>35542.942094</td>\n",
       "      <td>188.528359</td>\n",
       "    </tr>\n",
       "    <tr>\n",
       "      <th>ultimate_messages</th>\n",
       "      <td>38.511589</td>\n",
       "      <td>1081.472295</td>\n",
       "      <td>32.885746</td>\n",
       "    </tr>\n",
       "    <tr>\n",
       "      <th>ultimate_data</th>\n",
       "      <td>16064.432588</td>\n",
       "      <td>34609278.668199</td>\n",
       "      <td>5882.965126</td>\n",
       "    </tr>\n",
       "    <tr>\n",
       "      <th>churn_minutes</th>\n",
       "      <td>369.574322</td>\n",
       "      <td>24683.742599</td>\n",
       "      <td>NaN</td>\n",
       "    </tr>\n",
       "    <tr>\n",
       "      <th>churn_messages</th>\n",
       "      <td>32.105035</td>\n",
       "      <td>871.138129</td>\n",
       "      <td>NaN</td>\n",
       "    </tr>\n",
       "    <tr>\n",
       "      <th>churn_data</th>\n",
       "      <td>15526.403095</td>\n",
       "      <td>23306660.271859</td>\n",
       "      <td>NaN</td>\n",
       "    </tr>\n",
       "  </tbody>\n",
       "</table>\n",
       "</div>"
      ],
      "text/plain": [
       "                           mean         variance        sigma\n",
       "safe_minutes         387.279897     36220.891142   190.317869\n",
       "safe_messages         34.619993      1017.531239    31.898765\n",
       "safe_data          15992.497779   38115125.16234  6173.744825\n",
       "surf_minutes         386.028867     35490.395928   188.388949\n",
       "surf_messages         32.543539       962.940689    31.031286\n",
       "surf_data          15913.792689  38392011.539508  6196.128754\n",
       "ultimate_minutes     386.324576     35542.942094   188.528359\n",
       "ultimate_messages     38.511589      1081.472295    32.885746\n",
       "ultimate_data      16064.432588  34609278.668199  5882.965126\n",
       "churn_minutes        369.574322     24683.742599          NaN\n",
       "churn_messages        32.105035       871.138129          NaN\n",
       "churn_data         15526.403095  23306660.271859          NaN"
      ]
     },
     "execution_count": 53,
     "metadata": {},
     "output_type": "execute_result"
    }
   ],
   "source": [
    "customer_behaviour"
   ]
  },
  {
   "cell_type": "markdown",
   "id": "c7161c40",
   "metadata": {
    "pycharm": {
     "name": "#%% md\n"
    }
   },
   "source": [
    "### Histograms and Bar charts"
   ]
  },
  {
   "cell_type": "markdown",
   "id": "aab0a88f",
   "metadata": {
    "pycharm": {
     "name": "#%% md\n"
    }
   },
   "source": [
    "Since the code for creating the histograms is repetitive, we will create a function that draws the histograms and puts labels on it according to the parameters we feed it."
   ]
  },
  {
   "cell_type": "code",
   "execution_count": 54,
   "id": "8dbdfa11",
   "metadata": {
    "pycharm": {
     "name": "#%%\n"
    }
   },
   "outputs": [],
   "source": [
    "def histo_plan(column,xlab,ylab,title,line_column,line1lab,line2lab):\n",
    "    plt.figure(figsize=(16,6))\n",
    "    plt.hist(full_users_data.query('tariff==\"surf\"')[column], bins=20, alpha=0.5, label=\"Surf users\")\n",
    "    plt.hist(full_users_data.query('tariff==\"ultimate\"')[column], bins=20, alpha=0.5, label=\"Ultimate users\");\n",
    "    plt.xlabel(xlab, size=14)\n",
    "    plt.ylabel(ylab, size=14)\n",
    "    plt.title(title, size=18)\n",
    "    call_mean=customer_behaviour.loc['safe_minutes','mean']\n",
    "    plt.vlines(x=plans_data[plans_data['plan_name']=='surf'][line_column], ymin=0, ymax=60, alpha=1, colors='blue', label = line1lab);\n",
    "    plt.vlines(x=plans_data[plans_data['plan_name']=='ultimate'][line_column], ymin=0, ymax=60, alpha=1, colors='brown', label = line2lab);\n",
    "    plt.legend(loc='upper right',);"
   ]
  },
  {
   "cell_type": "code",
   "execution_count": 55,
   "id": "cb769322",
   "metadata": {
    "pycharm": {
     "name": "#%%\n"
    }
   },
   "outputs": [
    {
     "data": {
      "image/png": "[encoded data removed]",
      "text/plain": [
       "<Figure size 1152x432 with 1 Axes>"
      ]
     },
     "metadata": {
      "needs_background": "light"
     },
     "output_type": "display_data"
    }
   ],
   "source": [
    "histo_plan('month_call_duration',\"Duration\",\"Count\",\"Average call duration\",'minutes_included','Surf Min. Limit','Ult. Min. Limit')"
   ]
  },
  {
   "cell_type": "code",
   "execution_count": 56,
   "id": "941f3145",
   "metadata": {
    "pycharm": {
     "name": "#%%\n"
    }
   },
   "outputs": [
    {
     "data": {
      "image/png": "[encoded data removed]",
      "text/plain": [
       "<Figure size 1152x432 with 1 Axes>"
      ]
     },
     "metadata": {
      "needs_background": "light"
     },
     "output_type": "display_data"
    }
   ],
   "source": [
    "histo_plan('month_messages',\"Messages count\",\"Users count\",\"Average number of messages\",\n",
    "           'messages_included','Surf Mess. Limit','Ult. Mess. Limit')"
   ]
  },
  {
   "cell_type": "code",
   "execution_count": 57,
   "id": "20ee3c24",
   "metadata": {
    "pycharm": {
     "name": "#%%\n"
    }
   },
   "outputs": [
    {
     "data": {
      "image/png": "[encoded data removed]",
      "text/plain": [
       "<Figure size 1152x432 with 1 Axes>"
      ]
     },
     "metadata": {
      "needs_background": "light"
     },
     "output_type": "display_data"
    }
   ],
   "source": [
    "histo_plan('month_data_size',\"Megabytes\",\"Users count\",\"Average MegaBytes of data\",\n",
    "           'mb_per_month_included','Surf MB Limit','Ult. MB Limit')"
   ]
  },
  {
   "cell_type": "markdown",
   "id": "f65010bc",
   "metadata": {
    "pycharm": {
     "name": "#%% md\n"
    }
   },
   "source": [
    "How many users pay more than the price for the phone plan?"
   ]
  },
  {
   "cell_type": "code",
   "execution_count": 58,
   "id": "a767dac8",
   "metadata": {
    "pycharm": {
     "name": "#%%\n"
    }
   },
   "outputs": [
    {
     "name": "stdout",
     "output_type": "stream",
     "text": [
      "There are 232 surf users overpaying which represents 69.67% of the total surf users\n",
      "There are 3 ultimate users overpaying which represents 1.91% of the total ultimate users\n"
     ]
    }
   ],
   "source": [
    "total_surf_users=len(full_users_data.query('tariff==\"surf\"'))\n",
    "total_ultimate_users=len(full_users_data.query('tariff==\"ultimate\"'))\n",
    "paying_surf_users=len(full_users_data.query('tariff==\"surf\" & avg_monthly_payment>20'))\n",
    "paying_ultimate_users=len(full_users_data.query('tariff==\"ultimate\" & avg_monthly_payment>70'))\n",
    "print('There are {} surf users overpaying which represents {:.2%} of the total surf users'.\n",
    "      format(paying_surf_users,paying_surf_users/total_surf_users))\n",
    "print('There are {} ultimate users overpaying which represents {:.2%} of the total ultimate users'.\n",
    "      format(paying_ultimate_users,paying_ultimate_users/total_ultimate_users))"
   ]
  },
  {
   "cell_type": "markdown",
   "id": "94687e7a",
   "metadata": {
    "pycharm": {
     "name": "#%% md\n"
    }
   },
   "source": [
    "What plan brings more money?"
   ]
  },
  {
   "cell_type": "code",
   "execution_count": 59,
   "id": "4c8fa9f6",
   "metadata": {
    "pycharm": {
     "name": "#%%\n"
    }
   },
   "outputs": [
    {
     "name": "stdout",
     "output_type": "stream",
     "text": [
      "Total monthly income from surf users is 17023.28 which is 51.12 per user, or 60.57% of the total income\n",
      "Total monthly income from ultimate users is 11080.83 which is 70.58 per user, or 39.43% of the total income\n"
     ]
    }
   ],
   "source": [
    "surf_income=full_users_data.query('tariff==\"surf\"')['avg_monthly_payment'].sum()\n",
    "ultimate_income=full_users_data.query('tariff==\"ultimate\"')['avg_monthly_payment'].sum()\n",
    "print('Total monthly income from surf users is {:.2f} which is {:.2f} per user, or {:.2%} of the total income'.\n",
    "      format(surf_income,surf_income/total_surf_users,surf_income/(surf_income+ultimate_income)))\n",
    "print('Total monthly income from ultimate users is {:.2f} which is {:.2f} per user, or {:.2%} of the total income'.\n",
    "      format(ultimate_income,ultimate_income/total_ultimate_users,ultimate_income/(surf_income+ultimate_income)))"
   ]
  },
  {
   "cell_type": "code",
   "execution_count": 60,
   "id": "23a62248",
   "metadata": {
    "pycharm": {
     "name": "#%%\n"
    }
   },
   "outputs": [
    {
     "data": {
      "text/html": [
       "<div>\n",
       "<style scoped>\n",
       "    .dataframe tbody tr th:only-of-type {\n",
       "        vertical-align: middle;\n",
       "    }\n",
       "\n",
       "    .dataframe tbody tr th {\n",
       "        vertical-align: top;\n",
       "    }\n",
       "\n",
       "    .dataframe thead th {\n",
       "        text-align: right;\n",
       "    }\n",
       "</style>\n",
       "<table border=\"1\" class=\"dataframe\">\n",
       "  <thead>\n",
       "    <tr style=\"text-align: right;\">\n",
       "      <th></th>\n",
       "      <th>mean</th>\n",
       "      <th>variance</th>\n",
       "      <th>sigma</th>\n",
       "    </tr>\n",
       "  </thead>\n",
       "  <tbody>\n",
       "    <tr>\n",
       "      <th>safe_minutes</th>\n",
       "      <td>387.279897</td>\n",
       "      <td>36220.891142</td>\n",
       "      <td>190.317869</td>\n",
       "    </tr>\n",
       "    <tr>\n",
       "      <th>safe_messages</th>\n",
       "      <td>34.619993</td>\n",
       "      <td>1017.531239</td>\n",
       "      <td>31.898765</td>\n",
       "    </tr>\n",
       "    <tr>\n",
       "      <th>safe_data</th>\n",
       "      <td>15992.497779</td>\n",
       "      <td>38115125.16234</td>\n",
       "      <td>6173.744825</td>\n",
       "    </tr>\n",
       "    <tr>\n",
       "      <th>surf_minutes</th>\n",
       "      <td>386.028867</td>\n",
       "      <td>35490.395928</td>\n",
       "      <td>188.388949</td>\n",
       "    </tr>\n",
       "    <tr>\n",
       "      <th>surf_messages</th>\n",
       "      <td>32.543539</td>\n",
       "      <td>962.940689</td>\n",
       "      <td>31.031286</td>\n",
       "    </tr>\n",
       "    <tr>\n",
       "      <th>surf_data</th>\n",
       "      <td>15913.792689</td>\n",
       "      <td>38392011.539508</td>\n",
       "      <td>6196.128754</td>\n",
       "    </tr>\n",
       "    <tr>\n",
       "      <th>ultimate_minutes</th>\n",
       "      <td>386.324576</td>\n",
       "      <td>35542.942094</td>\n",
       "      <td>188.528359</td>\n",
       "    </tr>\n",
       "    <tr>\n",
       "      <th>ultimate_messages</th>\n",
       "      <td>38.511589</td>\n",
       "      <td>1081.472295</td>\n",
       "      <td>32.885746</td>\n",
       "    </tr>\n",
       "    <tr>\n",
       "      <th>ultimate_data</th>\n",
       "      <td>16064.432588</td>\n",
       "      <td>34609278.668199</td>\n",
       "      <td>5882.965126</td>\n",
       "    </tr>\n",
       "    <tr>\n",
       "      <th>churn_minutes</th>\n",
       "      <td>369.574322</td>\n",
       "      <td>24683.742599</td>\n",
       "      <td>NaN</td>\n",
       "    </tr>\n",
       "    <tr>\n",
       "      <th>churn_messages</th>\n",
       "      <td>32.105035</td>\n",
       "      <td>871.138129</td>\n",
       "      <td>NaN</td>\n",
       "    </tr>\n",
       "    <tr>\n",
       "      <th>churn_data</th>\n",
       "      <td>15526.403095</td>\n",
       "      <td>23306660.271859</td>\n",
       "      <td>NaN</td>\n",
       "    </tr>\n",
       "  </tbody>\n",
       "</table>\n",
       "</div>"
      ],
      "text/plain": [
       "                           mean         variance        sigma\n",
       "safe_minutes         387.279897     36220.891142   190.317869\n",
       "safe_messages         34.619993      1017.531239    31.898765\n",
       "safe_data          15992.497779   38115125.16234  6173.744825\n",
       "surf_minutes         386.028867     35490.395928   188.388949\n",
       "surf_messages         32.543539       962.940689    31.031286\n",
       "surf_data          15913.792689  38392011.539508  6196.128754\n",
       "ultimate_minutes     386.324576     35542.942094   188.528359\n",
       "ultimate_messages     38.511589      1081.472295    32.885746\n",
       "ultimate_data      16064.432588  34609278.668199  5882.965126\n",
       "churn_minutes        369.574322     24683.742599          NaN\n",
       "churn_messages        32.105035       871.138129          NaN\n",
       "churn_data         15526.403095  23306660.271859          NaN"
      ]
     },
     "execution_count": 60,
     "metadata": {},
     "output_type": "execute_result"
    }
   ],
   "source": [
    "customer_behaviour"
   ]
  },
  {
   "cell_type": "markdown",
   "id": "e9393400",
   "metadata": {
    "pycharm": {
     "name": "#%% md\n"
    }
   },
   "source": [
    "### Conclusions\n",
    "We see from the *customer_behaviour* that the churned and regular users have very similar behaviour and histograms, with very similar means and variance. This proves us correct in not dropping the churned users."
   ]
  },
  {
   "cell_type": "markdown",
   "id": "6340caa6",
   "metadata": {
    "pycharm": {
     "name": "#%% md\n"
    }
   },
   "source": [
    "We are very surprised to see that there doesn't seem to be a difference in usage between Surf users and Ultimate users! We will test thy hypotheses in the next chapter."
   ]
  },
  {
   "cell_type": "markdown",
   "id": "7711716a",
   "metadata": {
    "pycharm": {
     "name": "#%% md\n"
    }
   },
   "source": [
    "We see that surf users regularly go above their plan limits, while for ultimate users this is very rare (only 3 ultimate users went above their data limits). As such, most of the income comes from surf users."
   ]
  },
  {
   "cell_type": "markdown",
   "id": "cc99a6db",
   "metadata": {
    "pycharm": {
     "name": "#%% md\n"
    }
   },
   "source": [
    "## Testing Hypotheses"
   ]
  },
  {
   "cell_type": "markdown",
   "id": "053261a4",
   "metadata": {
    "pycharm": {
     "name": "#%% md\n"
    }
   },
   "source": [
    "###    The average revenue from users of Ultimate and Surf calling plans differs"
   ]
  },
  {
   "cell_type": "markdown",
   "id": "69660709",
   "metadata": {
    "pycharm": {
     "name": "#%% md\n"
    }
   },
   "source": [
    "We make the following null hypothesis:\n",
    "<br>\n",
    "$ H_{0} = $ The average revenue from users of Ultimate and Surf calling plans are the same.\n",
    "<br>\n",
    "The alternative hypothesis is:\n",
    "<br>\n",
    "$ H_{1} = $ The average revenue from users of Ultimate and Surf calling plans are different.\n",
    "<br>We choose the estimated standard error $\\alpha = 0.05$ which should provide us with an adequate margin of confidence.\n"
   ]
  },
  {
   "cell_type": "code",
   "execution_count": 61,
   "id": "b80f4029",
   "metadata": {
    "pycharm": {
     "name": "#%%\n"
    }
   },
   "outputs": [],
   "source": [
    "def hypotesis(alpha,data1,data2):\n",
    "    results = st.ttest_ind(data1,data2, \n",
    "        equal_var = False)\n",
    "\n",
    "    print('p-value: {:.18f}'.format(results.pvalue))\n",
    "    # if the p-value is less than alpha, we reject the hypothesis\n",
    "    if results.pvalue < alpha:\n",
    "        print(\"We reject the null hypothesis\")\n",
    "    else:\n",
    "        print(\"We can't reject the null hypothesis\") "
   ]
  },
  {
   "cell_type": "code",
   "execution_count": 62,
   "id": "8e945ee0",
   "metadata": {
    "pycharm": {
     "name": "#%%\n"
    }
   },
   "outputs": [
    {
     "name": "stdout",
     "output_type": "stream",
     "text": [
      "p-value: 0.000000000406140183\n",
      "We reject the null hypothesis\n"
     ]
    }
   ],
   "source": [
    "hypotesis(0.05,complete_users_data.query('tariff==\"surf\"')['monthly_payment'], \n",
    "    complete_users_data.query('tariff==\"ultimate\"')['monthly_payment'])"
   ]
  },
  {
   "cell_type": "markdown",
   "id": "66315398",
   "metadata": {
    "pycharm": {
     "name": "#%% md\n"
    }
   },
   "source": [
    "###  The average revenue from users in NY-NJ area is different from that of the users from other regions"
   ]
  },
  {
   "cell_type": "code",
   "execution_count": 63,
   "id": "9edbddba",
   "metadata": {
    "pycharm": {
     "name": "#%%\n"
    }
   },
   "outputs": [
    {
     "data": {
      "text/html": [
       "<div>\n",
       "<style scoped>\n",
       "    .dataframe tbody tr th:only-of-type {\n",
       "        vertical-align: middle;\n",
       "    }\n",
       "\n",
       "    .dataframe tbody tr th {\n",
       "        vertical-align: top;\n",
       "    }\n",
       "\n",
       "    .dataframe thead th {\n",
       "        text-align: right;\n",
       "    }\n",
       "</style>\n",
       "<table border=\"1\" class=\"dataframe\">\n",
       "  <thead>\n",
       "    <tr style=\"text-align: right;\">\n",
       "      <th></th>\n",
       "      <th>user_id</th>\n",
       "      <th>first_name</th>\n",
       "      <th>last_name</th>\n",
       "      <th>age</th>\n",
       "      <th>city</th>\n",
       "      <th>reg_date</th>\n",
       "      <th>tariff</th>\n",
       "      <th>churn_date</th>\n",
       "      <th>month_data_size</th>\n",
       "      <th>month_data_connection</th>\n",
       "      <th>month_call_duration</th>\n",
       "      <th>month_call_number</th>\n",
       "      <th>month_messages</th>\n",
       "      <th>avg_monthly_payment</th>\n",
       "    </tr>\n",
       "  </thead>\n",
       "  <tbody>\n",
       "    <tr>\n",
       "      <th>126</th>\n",
       "      <td>1127</td>\n",
       "      <td>Marchelle</td>\n",
       "      <td>Brock</td>\n",
       "      <td>28</td>\n",
       "      <td>New York-Newark-Jersey City, NY-NJ-PA MSA</td>\n",
       "      <td>2018-06-23</td>\n",
       "      <td>surf</td>\n",
       "      <td>0</td>\n",
       "      <td>21702.718571</td>\n",
       "      <td>67.00</td>\n",
       "      <td>201.011429</td>\n",
       "      <td>28.428571</td>\n",
       "      <td>10.857143</td>\n",
       "      <td>91.940611</td>\n",
       "    </tr>\n",
       "    <tr>\n",
       "      <th>67</th>\n",
       "      <td>1068</td>\n",
       "      <td>Marcel</td>\n",
       "      <td>Jimenez</td>\n",
       "      <td>47</td>\n",
       "      <td>New York-Newark-Jersey City, NY-NJ-PA MSA</td>\n",
       "      <td>2018-01-29</td>\n",
       "      <td>surf</td>\n",
       "      <td>0</td>\n",
       "      <td>14174.190000</td>\n",
       "      <td>45.75</td>\n",
       "      <td>214.575000</td>\n",
       "      <td>31.000000</td>\n",
       "      <td>0.000000</td>\n",
       "      <td>20.000000</td>\n",
       "    </tr>\n",
       "    <tr>\n",
       "      <th>368</th>\n",
       "      <td>1375</td>\n",
       "      <td>Andy</td>\n",
       "      <td>Holden</td>\n",
       "      <td>69</td>\n",
       "      <td>Philadelphia-Camden-Wilmington, PA-NJ-DE-MD MSA</td>\n",
       "      <td>2018-12-01</td>\n",
       "      <td>surf</td>\n",
       "      <td>0</td>\n",
       "      <td>13623.690000</td>\n",
       "      <td>48.00</td>\n",
       "      <td>259.300000</td>\n",
       "      <td>36.000000</td>\n",
       "      <td>81.000000</td>\n",
       "      <td>20.930000</td>\n",
       "    </tr>\n",
       "    <tr>\n",
       "      <th>166</th>\n",
       "      <td>1169</td>\n",
       "      <td>Hai</td>\n",
       "      <td>Bean</td>\n",
       "      <td>67</td>\n",
       "      <td>New York-Newark-Jersey City, NY-NJ-PA MSA</td>\n",
       "      <td>2018-12-06</td>\n",
       "      <td>surf</td>\n",
       "      <td>0</td>\n",
       "      <td>17431.280000</td>\n",
       "      <td>39.00</td>\n",
       "      <td>789.820000</td>\n",
       "      <td>105.000000</td>\n",
       "      <td>110.000000</td>\n",
       "      <td>60.727344</td>\n",
       "    </tr>\n",
       "    <tr>\n",
       "      <th>337</th>\n",
       "      <td>1344</td>\n",
       "      <td>Hugo</td>\n",
       "      <td>Daugherty</td>\n",
       "      <td>70</td>\n",
       "      <td>New York-Newark-Jersey City, NY-NJ-PA MSA</td>\n",
       "      <td>2018-12-25</td>\n",
       "      <td>surf</td>\n",
       "      <td>0</td>\n",
       "      <td>4054.010000</td>\n",
       "      <td>17.00</td>\n",
       "      <td>39.140000</td>\n",
       "      <td>6.000000</td>\n",
       "      <td>14.000000</td>\n",
       "      <td>20.000000</td>\n",
       "    </tr>\n",
       "  </tbody>\n",
       "</table>\n",
       "</div>"
      ],
      "text/plain": [
       "     user_id first_name  last_name  age  \\\n",
       "126     1127  Marchelle      Brock   28   \n",
       "67      1068     Marcel    Jimenez   47   \n",
       "368     1375       Andy     Holden   69   \n",
       "166     1169        Hai       Bean   67   \n",
       "337     1344       Hugo  Daugherty   70   \n",
       "\n",
       "                                                city    reg_date tariff  \\\n",
       "126        New York-Newark-Jersey City, NY-NJ-PA MSA  2018-06-23   surf   \n",
       "67         New York-Newark-Jersey City, NY-NJ-PA MSA  2018-01-29   surf   \n",
       "368  Philadelphia-Camden-Wilmington, PA-NJ-DE-MD MSA  2018-12-01   surf   \n",
       "166        New York-Newark-Jersey City, NY-NJ-PA MSA  2018-12-06   surf   \n",
       "337        New York-Newark-Jersey City, NY-NJ-PA MSA  2018-12-25   surf   \n",
       "\n",
       "    churn_date  month_data_size  month_data_connection  month_call_duration  \\\n",
       "126          0     21702.718571                  67.00           201.011429   \n",
       "67           0     14174.190000                  45.75           214.575000   \n",
       "368          0     13623.690000                  48.00           259.300000   \n",
       "166          0     17431.280000                  39.00           789.820000   \n",
       "337          0      4054.010000                  17.00            39.140000   \n",
       "\n",
       "     month_call_number  month_messages  avg_monthly_payment  \n",
       "126          28.428571       10.857143            91.940611  \n",
       "67           31.000000        0.000000            20.000000  \n",
       "368          36.000000       81.000000            20.930000  \n",
       "166         105.000000      110.000000            60.727344  \n",
       "337           6.000000       14.000000            20.000000  "
      ]
     },
     "execution_count": 63,
     "metadata": {},
     "output_type": "execute_result"
    }
   ],
   "source": [
    "full_users_data[full_users_data['city'].str.contains('NY|NJ')].sample(5)"
   ]
  },
  {
   "cell_type": "markdown",
   "id": "521b8ddf",
   "metadata": {
    "pycharm": {
     "name": "#%% md\n"
    }
   },
   "source": [
    "We make the following null hypothesis:\n",
    "<br>\n",
    "$ H_{0} = $ The average revenue from NY-NJ area users is the same with that of the users from other regions\n",
    "<br>\n",
    "The alternative hypothesis is:\n",
    "<br>\n",
    "$ H_{1} = $ The average revenue from  NY-NJ area users is <b>not</b> the same with that of the users from other regions\n",
    "<br>\n",
    "We choose the same estimated standard error $\\alpha = 0.05$ which should provide us with an adequate margin of confidence.\n"
   ]
  },
  {
   "cell_type": "code",
   "execution_count": 64,
   "id": "7939a871",
   "metadata": {
    "pycharm": {
     "name": "#%%\n"
    }
   },
   "outputs": [
    {
     "name": "stdout",
     "output_type": "stream",
     "text": [
      "p-value: 0.166637420046862356\n",
      "We can't reject the null hypothesis\n"
     ]
    }
   ],
   "source": [
    "ny_nj_users_data=complete_users_data[complete_users_data['city'].str.contains('NY|NJ')]['monthly_payment']\n",
    "rest_of_us_users_data=complete_users_data[~complete_users_data['city'].str.contains('NY|NJ')]['monthly_payment']\n",
    "hypotesis(0.05,ny_nj_users_data,rest_of_us_users_data)"
   ]
  },
  {
   "cell_type": "markdown",
   "id": "c16ed003",
   "metadata": {
    "pycharm": {
     "name": "#%% md\n"
    }
   },
   "source": [
    "#### Conclusion\n",
    "We tested the hypoteses that average revenue from users of Ultimate and Surf calling plans are the same and that the average revenue from users from New York and New Jersey are similar to that of the other american states.\n",
    "We saw that the first hypothesis was rejected and average revenue is different between the two plans.\n",
    "The second hypothesis we couldn't reject, so it seems that the revenue from NY-NJ users is similar to the rest of USA."
   ]
  },
  {
   "cell_type": "markdown",
   "id": "01b0774c",
   "metadata": {
    "pycharm": {
     "name": "#%% md\n"
    }
   },
   "source": [
    "## Overall Conclusion\n",
    "We have opened and explored the each table. \n",
    "We had no missing values but quite a lot of dropped calls and internet conections. We decided not to remove them so we don't lose all that related data.\n",
    "We grouped the data based on user and month and calculated for each user his average monthly usage and cost.\n",
    "We plotted histograms for calls duration, data transfers and messages, with comparison between the users on the surf plan and those on the ultimate plan.\n",
    "We were surprised to find out that even though in the hystogram it seems that the usage pattern between clients of the two phone plans seems very similar, the statistical analysis show that there is a significant difference in the average revenue between them. In the same time, there is no revenue difference between users from New York and New Jersey and the rest of the country. <br>\n",
    "Most of the revenue comes from users on the 'surf' phone plan, who go above their plan limits."
   ]
  },
  {
   "cell_type": "code",
   "execution_count": null,
   "id": "9e53dffb",
   "metadata": {
    "pycharm": {
     "name": "#%%\n"
    }
   },
   "outputs": [],
   "source": []
  }
 ],
 "metadata": {
  "ExecuteTimeLog": [
   {
    "duration": 44872,
    "start_time": "2021-07-14T08:40:35.036Z"
   },
   {
    "duration": 4,
    "start_time": "2021-07-14T08:41:19.916Z"
   },
   {
    "duration": 2264,
    "start_time": "2021-07-14T08:41:19.923Z"
   },
   {
    "duration": 61,
    "start_time": "2021-07-14T08:41:22.190Z"
   },
   {
    "duration": 710,
    "start_time": "2021-07-14T08:41:22.254Z"
   },
   {
    "duration": 9,
    "start_time": "2021-07-14T08:41:22.967Z"
   },
   {
    "duration": 75,
    "start_time": "2021-07-14T08:41:22.979Z"
   },
   {
    "duration": 45,
    "start_time": "2021-07-14T08:41:23.058Z"
   },
   {
    "duration": 11,
    "start_time": "2021-07-14T08:41:23.110Z"
   },
   {
    "duration": 41,
    "start_time": "2021-07-14T08:41:23.125Z"
   },
   {
    "duration": 23,
    "start_time": "2021-07-14T08:41:23.201Z"
   },
   {
    "duration": 42,
    "start_time": "2021-07-14T08:41:23.226Z"
   },
   {
    "duration": 10,
    "start_time": "2021-07-14T08:41:23.302Z"
   },
   {
    "duration": 20,
    "start_time": "2021-07-14T08:41:23.315Z"
   },
   {
    "duration": 108,
    "start_time": "2021-07-14T08:41:23.338Z"
   },
   {
    "duration": 18,
    "start_time": "2021-07-14T08:41:23.448Z"
   },
   {
    "duration": 34,
    "start_time": "2021-07-14T08:41:23.469Z"
   },
   {
    "duration": 25,
    "start_time": "2021-07-14T08:41:23.506Z"
   },
   {
    "duration": 78,
    "start_time": "2021-07-14T08:41:23.534Z"
   },
   {
    "duration": 51,
    "start_time": "2021-07-14T08:41:23.615Z"
   },
   {
    "duration": 30,
    "start_time": "2021-07-14T08:41:23.669Z"
   },
   {
    "duration": 18,
    "start_time": "2021-07-14T08:41:23.702Z"
   },
   {
    "duration": 14,
    "start_time": "2021-07-14T08:41:23.723Z"
   },
   {
    "duration": 12,
    "start_time": "2021-07-14T08:41:23.740Z"
   },
   {
    "duration": 49,
    "start_time": "2021-07-14T08:41:23.754Z"
   },
   {
    "duration": 16,
    "start_time": "2021-07-14T08:41:23.806Z"
   },
   {
    "duration": 8,
    "start_time": "2021-07-14T08:41:23.828Z"
   },
   {
    "duration": 6,
    "start_time": "2021-07-14T08:41:23.839Z"
   },
   {
    "duration": 7,
    "start_time": "2021-07-14T08:41:23.848Z"
   },
   {
    "duration": 580,
    "start_time": "2021-07-14T08:41:23.857Z"
   },
   {
    "duration": 6,
    "start_time": "2021-07-14T08:41:24.439Z"
   },
   {
    "duration": 18,
    "start_time": "2021-07-14T08:41:24.447Z"
   },
   {
    "duration": 36,
    "start_time": "2021-07-14T08:41:24.468Z"
   },
   {
    "duration": 8,
    "start_time": "2021-07-14T08:41:24.507Z"
   },
   {
    "duration": 18,
    "start_time": "2021-07-14T08:41:24.518Z"
   },
   {
    "duration": 15,
    "start_time": "2021-07-14T08:41:24.539Z"
   },
   {
    "duration": 44,
    "start_time": "2021-07-14T08:41:24.557Z"
   },
   {
    "duration": 18,
    "start_time": "2021-07-14T08:41:24.605Z"
   },
   {
    "duration": 9,
    "start_time": "2021-07-14T08:41:24.626Z"
   },
   {
    "duration": 18,
    "start_time": "2021-07-14T08:41:24.637Z"
   },
   {
    "duration": 43,
    "start_time": "2021-07-14T08:41:24.657Z"
   },
   {
    "duration": 17,
    "start_time": "2021-07-14T08:41:24.704Z"
   },
   {
    "duration": 7,
    "start_time": "2021-07-14T08:41:24.724Z"
   },
   {
    "duration": 15,
    "start_time": "2021-07-14T08:41:24.733Z"
   },
   {
    "duration": 424,
    "start_time": "2021-07-14T08:41:24.751Z"
   },
   {
    "duration": 383,
    "start_time": "2021-07-14T08:41:25.178Z"
   },
   {
    "duration": 364,
    "start_time": "2021-07-14T08:41:25.564Z"
   },
   {
    "duration": 16,
    "start_time": "2021-07-14T08:41:25.931Z"
   },
   {
    "duration": 12,
    "start_time": "2021-07-14T08:41:25.950Z"
   },
   {
    "duration": 39,
    "start_time": "2021-07-14T08:41:25.964Z"
   },
   {
    "duration": 36,
    "start_time": "2021-07-14T08:41:26.008Z"
   },
   {
    "duration": 10,
    "start_time": "2021-07-14T08:41:26.047Z"
   },
   {
    "duration": 6,
    "start_time": "2021-07-14T08:50:52.967Z"
   },
   {
    "duration": 15,
    "start_time": "2021-07-14T08:53:55.979Z"
   },
   {
    "duration": 145,
    "start_time": "2021-07-14T08:58:22.933Z"
   },
   {
    "duration": 11,
    "start_time": "2021-07-14T08:58:25.284Z"
   },
   {
    "duration": 42967,
    "start_time": "2021-07-14T11:09:15.596Z"
   },
   {
    "duration": 5,
    "start_time": "2021-07-14T11:09:58.566Z"
   },
   {
    "duration": 2489,
    "start_time": "2021-07-14T11:09:58.575Z"
   },
   {
    "duration": 61,
    "start_time": "2021-07-14T11:10:01.067Z"
   },
   {
    "duration": 89,
    "start_time": "2021-07-14T11:10:01.131Z"
   },
   {
    "duration": 10,
    "start_time": "2021-07-14T11:10:01.222Z"
   },
   {
    "duration": 86,
    "start_time": "2021-07-14T11:10:01.235Z"
   },
   {
    "duration": 21,
    "start_time": "2021-07-14T11:10:01.325Z"
   },
   {
    "duration": 52,
    "start_time": "2021-07-14T11:10:01.356Z"
   },
   {
    "duration": 107,
    "start_time": "2021-07-14T11:10:01.411Z"
   },
   {
    "duration": 49,
    "start_time": "2021-07-14T11:10:01.521Z"
   },
   {
    "duration": 75,
    "start_time": "2021-07-14T11:10:01.573Z"
   },
   {
    "duration": 41,
    "start_time": "2021-07-14T11:10:01.650Z"
   },
   {
    "duration": 73,
    "start_time": "2021-07-14T11:10:01.694Z"
   },
   {
    "duration": 90,
    "start_time": "2021-07-14T11:10:01.770Z"
   },
   {
    "duration": 19,
    "start_time": "2021-07-14T11:10:01.863Z"
   },
   {
    "duration": 64,
    "start_time": "2021-07-14T11:10:01.885Z"
   },
   {
    "duration": 70,
    "start_time": "2021-07-14T11:10:01.952Z"
   },
   {
    "duration": 88,
    "start_time": "2021-07-14T11:10:02.025Z"
   },
   {
    "duration": 82,
    "start_time": "2021-07-14T11:10:02.115Z"
   },
   {
    "duration": 23,
    "start_time": "2021-07-14T11:10:02.199Z"
   },
   {
    "duration": 52,
    "start_time": "2021-07-14T11:10:02.225Z"
   },
   {
    "duration": 54,
    "start_time": "2021-07-14T11:10:02.283Z"
   },
   {
    "duration": 101,
    "start_time": "2021-07-14T11:10:02.340Z"
   },
   {
    "duration": 27,
    "start_time": "2021-07-14T11:10:02.443Z"
   },
   {
    "duration": 35,
    "start_time": "2021-07-14T11:10:02.472Z"
   },
   {
    "duration": 30,
    "start_time": "2021-07-14T11:10:02.509Z"
   },
   {
    "duration": 26,
    "start_time": "2021-07-14T11:10:02.541Z"
   },
   {
    "duration": 30,
    "start_time": "2021-07-14T11:10:02.569Z"
   },
   {
    "duration": 27,
    "start_time": "2021-07-14T11:10:02.601Z"
   },
   {
    "duration": 537,
    "start_time": "2021-07-14T11:10:02.631Z"
   },
   {
    "duration": 6,
    "start_time": "2021-07-14T11:10:03.171Z"
   },
   {
    "duration": 28,
    "start_time": "2021-07-14T11:10:03.180Z"
   },
   {
    "duration": 57,
    "start_time": "2021-07-14T11:10:03.211Z"
   },
   {
    "duration": 30,
    "start_time": "2021-07-14T11:10:03.270Z"
   },
   {
    "duration": 35,
    "start_time": "2021-07-14T11:10:03.303Z"
   },
   {
    "duration": 45,
    "start_time": "2021-07-14T11:10:03.340Z"
   },
   {
    "duration": 47,
    "start_time": "2021-07-14T11:10:03.388Z"
   },
   {
    "duration": 27,
    "start_time": "2021-07-14T11:10:03.437Z"
   },
   {
    "duration": 47,
    "start_time": "2021-07-14T11:10:03.467Z"
   },
   {
    "duration": 47,
    "start_time": "2021-07-14T11:10:03.516Z"
   },
   {
    "duration": 52,
    "start_time": "2021-07-14T11:10:03.565Z"
   },
   {
    "duration": 124,
    "start_time": "2021-07-14T11:10:03.620Z"
   },
   {
    "duration": 451,
    "start_time": "2021-07-14T11:10:03.747Z"
   },
   {
    "duration": 633,
    "start_time": "2021-07-14T11:10:03.568Z"
   },
   {
    "duration": 627,
    "start_time": "2021-07-14T11:10:03.576Z"
   },
   {
    "duration": 625,
    "start_time": "2021-07-14T11:10:03.580Z"
   },
   {
    "duration": 624,
    "start_time": "2021-07-14T11:10:03.584Z"
   },
   {
    "duration": 618,
    "start_time": "2021-07-14T11:10:03.591Z"
   },
   {
    "duration": 615,
    "start_time": "2021-07-14T11:10:03.596Z"
   },
   {
    "duration": 533,
    "start_time": "2021-07-14T11:10:03.682Z"
   },
   {
    "duration": 530,
    "start_time": "2021-07-14T11:10:03.686Z"
   },
   {
    "duration": 521,
    "start_time": "2021-07-14T11:10:03.698Z"
   },
   {
    "duration": 518,
    "start_time": "2021-07-14T11:10:03.702Z"
   },
   {
    "duration": 9,
    "start_time": "2021-07-14T11:10:15.252Z"
   },
   {
    "duration": 20,
    "start_time": "2021-07-14T11:10:15.729Z"
   },
   {
    "duration": 9,
    "start_time": "2021-07-14T11:10:56.175Z"
   },
   {
    "duration": 14,
    "start_time": "2021-07-14T11:10:56.532Z"
   },
   {
    "duration": 14,
    "start_time": "2021-07-14T11:10:56.863Z"
   },
   {
    "duration": 6,
    "start_time": "2021-07-14T11:10:57.132Z"
   },
   {
    "duration": 15,
    "start_time": "2021-07-14T11:10:57.334Z"
   },
   {
    "duration": 14,
    "start_time": "2021-07-14T11:10:57.566Z"
   },
   {
    "duration": 6,
    "start_time": "2021-07-14T11:10:57.821Z"
   },
   {
    "duration": 13,
    "start_time": "2021-07-14T11:10:58.319Z"
   },
   {
    "duration": 6,
    "start_time": "2021-07-14T11:10:58.640Z"
   },
   {
    "duration": 15,
    "start_time": "2021-07-14T11:10:58.988Z"
   },
   {
    "duration": 15,
    "start_time": "2021-07-14T11:10:59.310Z"
   },
   {
    "duration": 15,
    "start_time": "2021-07-14T11:10:59.782Z"
   },
   {
    "duration": 7,
    "start_time": "2021-07-14T11:11:00.077Z"
   },
   {
    "duration": 15,
    "start_time": "2021-07-14T11:11:00.883Z"
   },
   {
    "duration": 15,
    "start_time": "2021-07-14T11:11:08.715Z"
   },
   {
    "duration": 790,
    "start_time": "2021-07-14T11:11:15.152Z"
   },
   {
    "duration": 634,
    "start_time": "2021-07-14T11:11:15.311Z"
   },
   {
    "duration": 371,
    "start_time": "2021-07-14T11:11:16.100Z"
   },
   {
    "duration": 451,
    "start_time": "2021-07-14T11:11:16.474Z"
   },
   {
    "duration": 28,
    "start_time": "2021-07-14T11:11:16.927Z"
   },
   {
    "duration": 13,
    "start_time": "2021-07-14T11:11:17.084Z"
   },
   {
    "duration": 11,
    "start_time": "2021-07-14T11:11:17.794Z"
   },
   {
    "duration": 13,
    "start_time": "2021-07-14T11:11:19.854Z"
   },
   {
    "duration": 23,
    "start_time": "2021-07-14T11:11:20.795Z"
   },
   {
    "duration": 14,
    "start_time": "2021-07-14T11:11:21.866Z"
   },
   {
    "duration": 99,
    "start_time": "2021-07-14T11:13:22.368Z"
   },
   {
    "duration": 93,
    "start_time": "2021-07-14T11:13:32.110Z"
   },
   {
    "duration": 8,
    "start_time": "2021-07-14T11:13:40.676Z"
   },
   {
    "duration": 475,
    "start_time": "2021-07-14T11:13:46.041Z"
   },
   {
    "duration": 282,
    "start_time": "2021-07-14T11:17:17.837Z"
   },
   {
    "duration": 8,
    "start_time": "2021-07-14T11:17:23.439Z"
   },
   {
    "duration": 358,
    "start_time": "2021-07-14T11:17:24.972Z"
   },
   {
    "duration": 11,
    "start_time": "2021-07-14T11:19:29.626Z"
   },
   {
    "duration": 379,
    "start_time": "2021-07-14T11:19:30.971Z"
   },
   {
    "duration": 375,
    "start_time": "2021-07-14T11:21:02.830Z"
   },
   {
    "duration": 368,
    "start_time": "2021-07-14T11:21:25.311Z"
   },
   {
    "duration": 368,
    "start_time": "2021-07-14T11:22:30.425Z"
   },
   {
    "duration": 96,
    "start_time": "2021-07-14T11:56:24.438Z"
   },
   {
    "duration": 288,
    "start_time": "2021-07-14T12:14:05.176Z"
   },
   {
    "duration": 7,
    "start_time": "2021-07-14T12:14:20.426Z"
   },
   {
    "duration": 28,
    "start_time": "2021-07-14T12:15:53.257Z"
   },
   {
    "duration": 18,
    "start_time": "2021-07-14T12:16:01.133Z"
   },
   {
    "duration": 6,
    "start_time": "2021-07-14T12:17:55.601Z"
   },
   {
    "duration": 505,
    "start_time": "2021-07-14T12:17:59.921Z"
   },
   {
    "duration": 14,
    "start_time": "2021-07-14T12:19:48.601Z"
   },
   {
    "duration": 12,
    "start_time": "2021-07-14T12:24:13.201Z"
   },
   {
    "duration": 11,
    "start_time": "2021-07-14T12:24:19.986Z"
   },
   {
    "duration": 12,
    "start_time": "2021-07-14T12:24:24.298Z"
   },
   {
    "duration": 11,
    "start_time": "2021-07-14T12:24:32.985Z"
   },
   {
    "duration": 340,
    "start_time": "2021-07-14T12:24:46.444Z"
   },
   {
    "duration": 488,
    "start_time": "2021-07-14T12:24:49.471Z"
   },
   {
    "duration": 335,
    "start_time": "2021-07-14T12:24:53.297Z"
   },
   {
    "duration": 7,
    "start_time": "2021-07-14T12:27:00.074Z"
   },
   {
    "duration": 5,
    "start_time": "2021-07-14T12:27:06.136Z"
   },
   {
    "duration": 5,
    "start_time": "2021-07-14T12:47:20.475Z"
   },
   {
    "duration": 12,
    "start_time": "2021-07-14T12:47:48.919Z"
   },
   {
    "duration": 11,
    "start_time": "2021-07-14T13:13:53.754Z"
   },
   {
    "duration": 109,
    "start_time": "2021-07-14T13:16:37.245Z"
   },
   {
    "duration": 278,
    "start_time": "2021-07-14T14:46:03.948Z"
   },
   {
    "duration": 288,
    "start_time": "2021-07-14T14:49:00.021Z"
   },
   {
    "duration": 288,
    "start_time": "2021-07-14T14:49:09.734Z"
   },
   {
    "duration": 306,
    "start_time": "2021-07-14T14:49:29.370Z"
   },
   {
    "duration": 52,
    "start_time": "2021-07-14T14:50:08.038Z"
   },
   {
    "duration": 20,
    "start_time": "2021-07-14T14:51:21.144Z"
   },
   {
    "duration": 20,
    "start_time": "2021-07-14T14:51:30.368Z"
   },
   {
    "duration": 41,
    "start_time": "2021-07-14T14:54:01.131Z"
   },
   {
    "duration": 1275,
    "start_time": "2021-07-14T14:58:34.964Z"
   },
   {
    "duration": 38,
    "start_time": "2021-07-14T14:58:39.947Z"
   },
   {
    "duration": 3,
    "start_time": "2021-07-14T15:00:07.469Z"
   },
   {
    "duration": 92,
    "start_time": "2021-07-14T15:00:58.615Z"
   },
   {
    "duration": 85,
    "start_time": "2021-07-14T15:02:38.468Z"
   },
   {
    "duration": 5,
    "start_time": "2021-07-14T15:02:49.018Z"
   },
   {
    "duration": 15,
    "start_time": "2021-07-14T15:02:51.986Z"
   },
   {
    "duration": 15,
    "start_time": "2021-07-14T15:02:57.643Z"
   },
   {
    "duration": 15,
    "start_time": "2021-07-14T15:02:59.036Z"
   },
   {
    "duration": 25,
    "start_time": "2021-07-14T15:03:06.609Z"
   },
   {
    "duration": 14,
    "start_time": "2021-07-14T15:03:16.903Z"
   },
   {
    "duration": 73,
    "start_time": "2021-07-14T15:03:48.946Z"
   },
   {
    "duration": 62,
    "start_time": "2021-07-14T15:03:53.117Z"
   },
   {
    "duration": 33,
    "start_time": "2021-07-14T15:03:57.993Z"
   },
   {
    "duration": 5,
    "start_time": "2021-07-14T16:46:27.431Z"
   },
   {
    "duration": 6,
    "start_time": "2021-07-14T16:46:53.546Z"
   },
   {
    "duration": 33,
    "start_time": "2021-07-14T16:46:59.114Z"
   },
   {
    "duration": 40,
    "start_time": "2021-07-14T16:47:05.099Z"
   },
   {
    "duration": 38,
    "start_time": "2021-07-14T16:48:25.190Z"
   },
   {
    "duration": 15,
    "start_time": "2021-07-14T16:48:32.020Z"
   },
   {
    "duration": 18,
    "start_time": "2021-07-14T16:48:47.864Z"
   },
   {
    "duration": 4,
    "start_time": "2021-07-14T16:49:21.753Z"
   },
   {
    "duration": 749,
    "start_time": "2021-07-14T16:49:23.820Z"
   },
   {
    "duration": 5,
    "start_time": "2021-07-14T16:49:43.719Z"
   },
   {
    "duration": 14,
    "start_time": "2021-07-14T16:49:44.693Z"
   },
   {
    "duration": 14,
    "start_time": "2021-07-14T16:49:50.940Z"
   },
   {
    "duration": 5,
    "start_time": "2021-07-14T16:50:07.051Z"
   },
   {
    "duration": 19,
    "start_time": "2021-07-14T16:50:15.042Z"
   },
   {
    "duration": 16,
    "start_time": "2021-07-14T16:50:36.619Z"
   },
   {
    "duration": 7,
    "start_time": "2021-07-14T16:50:52.526Z"
   },
   {
    "duration": 17,
    "start_time": "2021-07-14T16:50:55.683Z"
   },
   {
    "duration": 2293,
    "start_time": "2021-07-14T16:53:41.384Z"
   },
   {
    "duration": 2398,
    "start_time": "2021-07-14T16:53:53.517Z"
   },
   {
    "duration": 3273,
    "start_time": "2021-07-14T16:54:45.937Z"
   },
   {
    "duration": 12,
    "start_time": "2021-07-14T16:55:05.700Z"
   },
   {
    "duration": 773,
    "start_time": "2021-07-14T16:56:30.744Z"
   },
   {
    "duration": 14,
    "start_time": "2021-07-14T17:00:00.800Z"
   },
   {
    "duration": 9,
    "start_time": "2021-07-14T17:00:44.142Z"
   },
   {
    "duration": 330,
    "start_time": "2021-07-14T17:00:45.005Z"
   },
   {
    "duration": 8,
    "start_time": "2021-07-14T17:00:59.483Z"
   },
   {
    "duration": 327,
    "start_time": "2021-07-14T17:01:00.817Z"
   },
   {
    "duration": 8,
    "start_time": "2021-07-14T17:01:10.666Z"
   },
   {
    "duration": 347,
    "start_time": "2021-07-14T17:01:11.078Z"
   },
   {
    "duration": 1859,
    "start_time": "2021-07-15T06:10:37.566Z"
   },
   {
    "duration": 57,
    "start_time": "2021-07-15T06:10:41.220Z"
   },
   {
    "duration": 64,
    "start_time": "2021-07-15T06:10:42.609Z"
   },
   {
    "duration": 10,
    "start_time": "2021-07-15T06:10:43.040Z"
   },
   {
    "duration": 55,
    "start_time": "2021-07-15T06:10:43.439Z"
   },
   {
    "duration": 18,
    "start_time": "2021-07-15T06:10:43.603Z"
   },
   {
    "duration": 8,
    "start_time": "2021-07-15T06:10:44.007Z"
   },
   {
    "duration": 39,
    "start_time": "2021-07-15T06:10:45.263Z"
   },
   {
    "duration": 17,
    "start_time": "2021-07-15T06:10:45.432Z"
   },
   {
    "duration": 44,
    "start_time": "2021-07-15T06:10:45.715Z"
   },
   {
    "duration": 9,
    "start_time": "2021-07-15T06:10:45.857Z"
   },
   {
    "duration": 18,
    "start_time": "2021-07-15T06:10:45.985Z"
   },
   {
    "duration": 67,
    "start_time": "2021-07-15T06:10:48.782Z"
   },
   {
    "duration": 20,
    "start_time": "2021-07-15T06:10:49.693Z"
   },
   {
    "duration": 18,
    "start_time": "2021-07-15T06:10:49.929Z"
   },
   {
    "duration": 23,
    "start_time": "2021-07-15T06:10:50.135Z"
   },
   {
    "duration": 54,
    "start_time": "2021-07-15T06:10:51.723Z"
   },
   {
    "duration": 49,
    "start_time": "2021-07-15T06:10:53.536Z"
   },
   {
    "duration": 13,
    "start_time": "2021-07-15T06:10:55.230Z"
   },
   {
    "duration": 445,
    "start_time": "2021-07-15T06:11:16.548Z"
   },
   {
    "duration": 10,
    "start_time": "2021-07-15T06:11:16.986Z"
   },
   {
    "duration": 7,
    "start_time": "2021-07-15T06:11:16.990Z"
   },
   {
    "duration": 5,
    "start_time": "2021-07-15T06:11:16.994Z"
   },
   {
    "duration": 7,
    "start_time": "2021-07-15T06:11:17.216Z"
   },
   {
    "duration": 377,
    "start_time": "2021-07-15T06:11:17.869Z"
   },
   {
    "duration": -4,
    "start_time": "2021-07-15T06:11:18.252Z"
   },
   {
    "duration": 7,
    "start_time": "2021-07-15T06:11:18.815Z"
   },
   {
    "duration": 359,
    "start_time": "2021-07-15T06:11:18.937Z"
   },
   {
    "duration": -31,
    "start_time": "2021-07-15T06:11:19.330Z"
   },
   {
    "duration": -33,
    "start_time": "2021-07-15T06:11:19.333Z"
   },
   {
    "duration": 343,
    "start_time": "2021-07-15T06:11:19.355Z"
   },
   {
    "duration": 19,
    "start_time": "2021-07-15T06:11:19.682Z"
   },
   {
    "duration": 16,
    "start_time": "2021-07-15T06:11:19.687Z"
   },
   {
    "duration": 328,
    "start_time": "2021-07-15T06:11:19.774Z"
   },
   {
    "duration": 18,
    "start_time": "2021-07-15T06:11:20.086Z"
   },
   {
    "duration": 16,
    "start_time": "2021-07-15T06:11:20.090Z"
   },
   {
    "duration": 405,
    "start_time": "2021-07-15T06:11:20.240Z"
   },
   {
    "duration": 21,
    "start_time": "2021-07-15T06:11:20.627Z"
   },
   {
    "duration": 18,
    "start_time": "2021-07-15T06:11:20.632Z"
   },
   {
    "duration": 12,
    "start_time": "2021-07-15T06:11:20.715Z"
   },
   {
    "duration": 9,
    "start_time": "2021-07-15T06:11:21.177Z"
   },
   {
    "duration": 664,
    "start_time": "2021-07-15T06:11:21.318Z"
   },
   {
    "duration": -49,
    "start_time": "2021-07-15T06:11:22.034Z"
   },
   {
    "duration": 654,
    "start_time": "2021-07-15T06:11:22.083Z"
   },
   {
    "duration": -3,
    "start_time": "2021-07-15T06:11:22.742Z"
   },
   {
    "duration": -4,
    "start_time": "2021-07-15T06:11:22.745Z"
   },
   {
    "duration": 11,
    "start_time": "2021-07-15T06:11:23.050Z"
   },
   {
    "duration": 5,
    "start_time": "2021-07-15T06:11:24.486Z"
   },
   {
    "duration": 324,
    "start_time": "2021-07-15T06:11:26.061Z"
   },
   {
    "duration": 367,
    "start_time": "2021-07-15T06:11:26.921Z"
   },
   {
    "duration": 331,
    "start_time": "2021-07-15T06:11:27.924Z"
   },
   {
    "duration": 52,
    "start_time": "2021-07-15T06:11:47.617Z"
   },
   {
    "duration": 10,
    "start_time": "2021-07-15T06:11:48.206Z"
   },
   {
    "duration": 11,
    "start_time": "2021-07-15T06:11:48.588Z"
   },
   {
    "duration": 12,
    "start_time": "2021-07-15T06:11:49.380Z"
   },
   {
    "duration": 3,
    "start_time": "2021-07-15T06:11:49.522Z"
   },
   {
    "duration": 5,
    "start_time": "2021-07-15T06:11:49.666Z"
   },
   {
    "duration": 16,
    "start_time": "2021-07-15T06:11:49.807Z"
   },
   {
    "duration": 5,
    "start_time": "2021-07-15T06:11:49.959Z"
   },
   {
    "duration": 21,
    "start_time": "2021-07-15T06:11:50.117Z"
   },
   {
    "duration": 29,
    "start_time": "2021-07-15T06:11:50.257Z"
   },
   {
    "duration": 6,
    "start_time": "2021-07-15T06:11:50.528Z"
   },
   {
    "duration": 11,
    "start_time": "2021-07-15T06:11:51.463Z"
   },
   {
    "duration": 6,
    "start_time": "2021-07-15T06:11:51.649Z"
   },
   {
    "duration": 17,
    "start_time": "2021-07-15T06:11:51.812Z"
   },
   {
    "duration": 7,
    "start_time": "2021-07-15T06:11:51.974Z"
   },
   {
    "duration": 8,
    "start_time": "2021-07-15T06:11:52.296Z"
   },
   {
    "duration": 520,
    "start_time": "2021-07-15T06:11:52.605Z"
   },
   {
    "duration": 2391,
    "start_time": "2021-07-15T06:11:53.128Z"
   },
   {
    "duration": 6,
    "start_time": "2021-07-15T06:11:55.522Z"
   },
   {
    "duration": 39,
    "start_time": "2021-07-15T06:11:55.531Z"
   },
   {
    "duration": 15,
    "start_time": "2021-07-15T06:11:55.573Z"
   },
   {
    "duration": 16,
    "start_time": "2021-07-15T06:11:55.590Z"
   },
   {
    "duration": 15,
    "start_time": "2021-07-15T06:11:55.609Z"
   },
   {
    "duration": 21,
    "start_time": "2021-07-15T06:11:55.627Z"
   },
   {
    "duration": 16,
    "start_time": "2021-07-15T06:11:55.651Z"
   },
   {
    "duration": 17,
    "start_time": "2021-07-15T06:11:55.669Z"
   },
   {
    "duration": 15,
    "start_time": "2021-07-15T06:11:55.688Z"
   },
   {
    "duration": 15,
    "start_time": "2021-07-15T06:11:55.705Z"
   },
   {
    "duration": 13,
    "start_time": "2021-07-15T06:11:55.723Z"
   },
   {
    "duration": 38,
    "start_time": "2021-07-15T06:11:55.739Z"
   },
   {
    "duration": 23,
    "start_time": "2021-07-15T06:11:55.780Z"
   },
   {
    "duration": 17,
    "start_time": "2021-07-15T06:11:55.806Z"
   },
   {
    "duration": 8,
    "start_time": "2021-07-15T06:11:56.000Z"
   },
   {
    "duration": 573,
    "start_time": "2021-07-15T06:11:56.156Z"
   },
   {
    "duration": 569,
    "start_time": "2021-07-15T06:11:56.732Z"
   },
   {
    "duration": 576,
    "start_time": "2021-07-15T06:11:57.303Z"
   },
   {
    "duration": 18,
    "start_time": "2021-07-15T06:11:57.881Z"
   },
   {
    "duration": 19,
    "start_time": "2021-07-15T06:11:57.902Z"
   },
   {
    "duration": 13,
    "start_time": "2021-07-15T06:11:58.027Z"
   },
   {
    "duration": 6,
    "start_time": "2021-07-15T06:12:00.141Z"
   },
   {
    "duration": 14,
    "start_time": "2021-07-15T06:12:00.623Z"
   },
   {
    "duration": 25,
    "start_time": "2021-07-15T06:12:01.325Z"
   },
   {
    "duration": 33,
    "start_time": "2021-07-15T06:12:12.385Z"
   },
   {
    "duration": 13,
    "start_time": "2021-07-15T06:12:22.988Z"
   },
   {
    "duration": 32,
    "start_time": "2021-07-15T06:12:26.625Z"
   }
  ],
  "kernelspec": {
   "display_name": "Python 3 (ipykernel)",
   "language": "python",
   "name": "python3"
  },
  "language_info": {
   "codemirror_mode": {
    "name": "ipython",
    "version": 3
   },
   "file_extension": ".py",
   "mimetype": "text/x-python",
   "name": "python",
   "nbconvert_exporter": "python",
   "pygments_lexer": "ipython3",
   "version": "3.9.12"
  },
  "toc": {
   "base_numbering": 1,
   "nav_menu": {},
   "number_sections": true,
   "sideBar": true,
   "skip_h1_title": true,
   "title_cell": "Table of Contents",
   "title_sidebar": "Contents",
   "toc_cell": false,
   "toc_position": {},
   "toc_section_display": true,
   "toc_window_display": false
  }
 },
 "nbformat": 4,
 "nbformat_minor": 5
}
